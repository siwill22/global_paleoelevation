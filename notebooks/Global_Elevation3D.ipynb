{
 "cells": [
  {
   "cell_type": "code",
   "execution_count": 18,
   "id": "af7f37d2-4a03-413a-9225-e43b4ba02cca",
   "metadata": {},
   "outputs": [
    {
     "name": "stdout",
     "output_type": "stream",
     "text": [
      "The autoreload extension is already loaded. To reload it, use:\n",
      "  %reload_ext autoreload\n"
     ]
    },
    {
     "name": "stderr",
     "output_type": "stream",
     "text": [
      "ERROR 1: PROJ: proj_identify: Cannot find proj.db\n",
      "ERROR 1: PROJ: proj_create_from_database: Cannot find proj.db\n",
      "ERROR 1: PROJ: proj_identify: Cannot find proj.db\n",
      "ERROR 1: PROJ: proj_create_from_database: Cannot find proj.db\n"
     ]
    }
   ],
   "source": [
    "import numpy as np\n",
    "import pandas as pd\n",
    "import geopandas as gpd\n",
    "import matplotlib.pyplot as plt\n",
    "import pygplates\n",
    "import pygmt\n",
    "\n",
    "from gprm import ReconstructionModel\n",
    "from gprm.datasets import Rocks, Reconstructions, Paleogeography, Geology\n",
    "from gprm.utils.raster import to_anchor_plate\n",
    "\n",
    "import sys\n",
    "#sys.path.append('/Users/simon/OneDrive/Andes_works//python/')\n",
    "sys.path.append('../../andes_paper/python/')\n",
    "import joyful_geochemistry as joy\n",
    "import joyful_mapping as joymap\n",
    "\n",
    "import collections\n",
    "\n",
    "%matplotlib inline\n",
    "%load_ext autoreload\n",
    "%autoreload 2\n",
    "\n",
    "\n",
    "############## Settings for Scotese Paleomap\n",
    "PaleomapDictionary = {}\n",
    "PaleomapDictionary['name'] = 'Paleomap'\n",
    "PaleomapDictionary['reconstruction_model'] = Reconstructions.fetch_Scotese()\n",
    "PaleomapDictionary['raster_sequence'] = Paleogeography.fetch_Paleomap()\n",
    "PaleomapDictionary['maximum_time'] = 540.\n",
    "PaleomapDictionary['time_bin_size'] = 20.\n",
    "PaleomapDictionary['anchor_plate_id'] = 0\n",
    "PaleomapDictionary['raster_anchor_plate_id'] = 0\n",
    "\n",
    "########## Geochemistry Inputs\n",
    "#df = joy.geochem_from_csv('../datafiles/geochem_merge_20221026.csv')\n",
    "df = joy.geochem_from_csv('../datafiles/geochem_global_20230124.csv',\n",
    "                          longitude_field_name='longitude', latitude_field_name='latitude')\n",
    "\n",
    "model_dir = '../../andes_paper/luffi/REM_surfaces_csv/'\n",
    "gc_interpolator_dict = joy.make_gc_interpolator_dict(model_dir)\n",
    "\n"
   ]
  },
  {
   "cell_type": "code",
   "execution_count": 19,
   "id": "f0c4fd08-8e53-43bc-97ce-c4d78e315ddb",
   "metadata": {},
   "outputs": [
    {
     "data": {
      "text/plain": [
       "<Axes: >"
      ]
     },
     "execution_count": 19,
     "metadata": {},
     "output_type": "execute_result"
    },
    {
     "data": {
      "image/png": "[encoded data removed]",
      "text/plain": [
       "<Figure size 640x480 with 1 Axes>"
      ]
     },
     "metadata": {},
     "output_type": "display_data"
    }
   ],
   "source": [
    "#'''\n",
    "df = joymap.select_orogens(df,gdf=None, \n",
    "                           orogen_names=['Cordilleran', \n",
    "                                         'Terra Australis', \n",
    "                                         'Solonker', \n",
    "                                         'Indosinian', \n",
    "                                         'Variscan-Hercynian',\n",
    "                                         'Scotian',\n",
    "                                         'Uralian',\n",
    "                                         'Mongol',\n",
    "                                         'Kazakh',\n",
    "                                         'Caledonia',\n",
    "                                         'Alpine-Himalayan'], \n",
    "                           #continent_names='South America',\n",
    "                           #region=[-100, -50, -60, 20]\n",
    "                          )\n",
    "#'''\n",
    "df.plot()"
   ]
  },
  {
   "cell_type": "code",
   "execution_count": 9,
   "id": "9f3f2dc0-eb1b-4a69-ae9c-d563c0af20f2",
   "metadata": {},
   "outputs": [
    {
     "name": "stdout",
     "output_type": "stream",
     "text": [
      "Number of samples after basic filtering 723951\n",
      "Final number of samples passed = 424687\n",
      "TODO implement min/max elevation cutoffs\n",
      "Number of samples after basic filtering 723951\n",
      "Final number of samples passed = 424687\n",
      "TODO implement min/max elevation cutoffs\n",
      "Number of samples after basic filtering 22040\n",
      "Final number of samples passed = 10992\n",
      "TODO implement min/max elevation cutoffs\n",
      "Number of samples after basic filtering 22040\n",
      "Final number of samples passed = 10992\n",
      "TODO implement min/max elevation cutoffs\n",
      "Number of samples after basic filtering 9574\n",
      "Final number of samples passed = 5690\n",
      "TODO implement min/max elevation cutoffs\n",
      "Number of samples after basic filtering 9574\n",
      "Final number of samples passed = 5690\n",
      "TODO implement min/max elevation cutoffs\n",
      "Number of samples after basic filtering 27587\n",
      "Final number of samples passed = 14539\n",
      "TODO implement min/max elevation cutoffs\n",
      "Number of samples after basic filtering 27587\n",
      "Final number of samples passed = 14539\n",
      "TODO implement min/max elevation cutoffs\n",
      "Number of samples after basic filtering 6552\n",
      "Final number of samples passed = 4475\n",
      "TODO implement min/max elevation cutoffs\n",
      "Number of samples after basic filtering 6552\n",
      "Final number of samples passed = 4475\n",
      "TODO implement min/max elevation cutoffs\n",
      "Number of samples after basic filtering 5351\n",
      "Final number of samples passed = 3308\n",
      "TODO implement min/max elevation cutoffs\n",
      "Number of samples after basic filtering 5351\n",
      "Final number of samples passed = 3308\n",
      "TODO implement min/max elevation cutoffs\n",
      "Number of samples after basic filtering 9994\n",
      "Final number of samples passed = 5523\n",
      "TODO implement min/max elevation cutoffs\n",
      "Number of samples after basic filtering 9994\n",
      "Final number of samples passed = 5523\n",
      "TODO implement min/max elevation cutoffs\n",
      "Number of samples after basic filtering 23485\n",
      "Final number of samples passed = 10632\n",
      "TODO implement min/max elevation cutoffs\n",
      "Number of samples after basic filtering 23485\n",
      "Final number of samples passed = 10632\n",
      "TODO implement min/max elevation cutoffs\n",
      "Number of samples after basic filtering 2538\n",
      "Final number of samples passed = 2036\n",
      "TODO implement min/max elevation cutoffs\n",
      "Number of samples after basic filtering 2538\n",
      "Final number of samples passed = 2036\n",
      "TODO implement min/max elevation cutoffs\n",
      "Number of samples after basic filtering 13117\n",
      "Final number of samples passed = 4457\n",
      "TODO implement min/max elevation cutoffs\n",
      "Number of samples after basic filtering 13117\n",
      "Final number of samples passed = 4457\n",
      "TODO implement min/max elevation cutoffs\n",
      "Number of samples after basic filtering 3004\n",
      "Final number of samples passed = 2285\n",
      "TODO implement min/max elevation cutoffs\n",
      "Number of samples after basic filtering 3004\n",
      "Final number of samples passed = 2285\n",
      "TODO implement min/max elevation cutoffs\n",
      "Number of samples after basic filtering 1948\n",
      "Final number of samples passed = 1371\n",
      "TODO implement min/max elevation cutoffs\n",
      "Number of samples after basic filtering 1948\n",
      "Final number of samples passed = 1371\n",
      "TODO implement min/max elevation cutoffs\n",
      "Number of samples after basic filtering 3432\n",
      "Final number of samples passed = 1563\n",
      "TODO implement min/max elevation cutoffs\n",
      "Number of samples after basic filtering 3432\n",
      "Final number of samples passed = 1563\n",
      "TODO implement min/max elevation cutoffs\n",
      "Number of samples after basic filtering 1496\n",
      "Final number of samples passed = 853\n",
      "TODO implement min/max elevation cutoffs\n",
      "Number of samples after basic filtering 1496\n",
      "Final number of samples passed = 853\n",
      "TODO implement min/max elevation cutoffs\n",
      "Number of samples after basic filtering 1227\n",
      "Final number of samples passed = 691\n",
      "TODO implement min/max elevation cutoffs\n",
      "Number of samples after basic filtering 1227\n",
      "Final number of samples passed = 691\n",
      "TODO implement min/max elevation cutoffs\n",
      "Number of samples after basic filtering 2866\n",
      "Final number of samples passed = 2050\n",
      "TODO implement min/max elevation cutoffs\n",
      "Number of samples after basic filtering 2866\n",
      "Final number of samples passed = 2050\n",
      "TODO implement min/max elevation cutoffs\n",
      "Number of samples after basic filtering 1726\n",
      "Final number of samples passed = 1036\n",
      "TODO implement min/max elevation cutoffs\n",
      "Number of samples after basic filtering 1726\n",
      "Final number of samples passed = 1036\n",
      "TODO implement min/max elevation cutoffs\n",
      "Number of samples after basic filtering 1455\n",
      "Final number of samples passed = 890\n",
      "TODO implement min/max elevation cutoffs\n",
      "Number of samples after basic filtering 1455\n",
      "Final number of samples passed = 890\n",
      "TODO implement min/max elevation cutoffs\n",
      "Number of samples after basic filtering 2620\n",
      "Final number of samples passed = 1862\n",
      "TODO implement min/max elevation cutoffs\n",
      "Number of samples after basic filtering 2620\n",
      "Final number of samples passed = 1862\n",
      "TODO implement min/max elevation cutoffs\n",
      "Number of samples after basic filtering 1056\n",
      "Final number of samples passed = 637\n",
      "TODO implement min/max elevation cutoffs\n",
      "Number of samples after basic filtering 1056\n",
      "Final number of samples passed = 637\n",
      "TODO implement min/max elevation cutoffs\n",
      "Number of samples after basic filtering 1357\n",
      "Final number of samples passed = 805\n",
      "TODO implement min/max elevation cutoffs\n",
      "Number of samples after basic filtering 1357\n",
      "Final number of samples passed = 805\n",
      "TODO implement min/max elevation cutoffs\n",
      "Number of samples after basic filtering 16837\n",
      "Final number of samples passed = 6401\n",
      "TODO implement min/max elevation cutoffs\n",
      "Number of samples after basic filtering 16837\n",
      "Final number of samples passed = 6401\n",
      "TODO implement min/max elevation cutoffs\n",
      "Number of samples after basic filtering 1229\n",
      "Final number of samples passed = 818\n",
      "TODO implement min/max elevation cutoffs\n",
      "Number of samples after basic filtering 1229\n",
      "Final number of samples passed = 818\n",
      "TODO implement min/max elevation cutoffs\n",
      "Number of samples after basic filtering 1356\n",
      "Final number of samples passed = 923\n",
      "TODO implement min/max elevation cutoffs\n",
      "Number of samples after basic filtering 1356\n",
      "Final number of samples passed = 923\n",
      "TODO implement min/max elevation cutoffs\n",
      "Number of samples after basic filtering 1222\n",
      "Final number of samples passed = 799\n",
      "TODO implement min/max elevation cutoffs\n",
      "Number of samples after basic filtering 1222\n",
      "Final number of samples passed = 799\n",
      "TODO implement min/max elevation cutoffs\n",
      "Number of samples after basic filtering 2831\n",
      "Final number of samples passed = 1779\n",
      "TODO implement min/max elevation cutoffs\n",
      "Number of samples after basic filtering 2831\n",
      "Final number of samples passed = 1779\n",
      "TODO implement min/max elevation cutoffs\n",
      "Number of samples after basic filtering 1091\n",
      "Final number of samples passed = 693\n",
      "TODO implement min/max elevation cutoffs\n",
      "Number of samples after basic filtering 1091\n",
      "Final number of samples passed = 693\n",
      "TODO implement min/max elevation cutoffs\n",
      "Number of samples after basic filtering 1339\n",
      "Final number of samples passed = 866\n",
      "TODO implement min/max elevation cutoffs\n",
      "Number of samples after basic filtering 1339\n",
      "Final number of samples passed = 866\n",
      "TODO implement min/max elevation cutoffs\n",
      "Number of samples after basic filtering 422\n",
      "Final number of samples passed = 246\n",
      "TODO implement min/max elevation cutoffs\n",
      "Number of samples after basic filtering 422\n",
      "Final number of samples passed = 246\n",
      "TODO implement min/max elevation cutoffs\n",
      "Number of samples after basic filtering 389\n",
      "Final number of samples passed = 261\n",
      "TODO implement min/max elevation cutoffs\n",
      "Number of samples after basic filtering 389\n",
      "Final number of samples passed = 261\n",
      "TODO implement min/max elevation cutoffs\n",
      "Number of samples after basic filtering 1066\n",
      "Final number of samples passed = 576\n",
      "TODO implement min/max elevation cutoffs\n",
      "Number of samples after basic filtering 1066\n",
      "Final number of samples passed = 576\n",
      "TODO implement min/max elevation cutoffs\n",
      "Number of samples after basic filtering 5362\n",
      "Final number of samples passed = 2730\n",
      "TODO implement min/max elevation cutoffs\n",
      "Number of samples after basic filtering 5362\n",
      "Final number of samples passed = 2730\n",
      "TODO implement min/max elevation cutoffs\n",
      "Number of samples after basic filtering 932\n",
      "Final number of samples passed = 784\n",
      "TODO implement min/max elevation cutoffs\n",
      "Number of samples after basic filtering 932\n",
      "Final number of samples passed = 784\n",
      "TODO implement min/max elevation cutoffs\n",
      "Number of samples after basic filtering 524\n",
      "Final number of samples passed = 372\n",
      "TODO implement min/max elevation cutoffs\n",
      "Number of samples after basic filtering 524\n",
      "Final number of samples passed = 372\n",
      "TODO implement min/max elevation cutoffs\n",
      "Number of samples after basic filtering 573\n",
      "Final number of samples passed = 416\n",
      "TODO implement min/max elevation cutoffs\n",
      "Number of samples after basic filtering 573\n",
      "Final number of samples passed = 416\n",
      "TODO implement min/max elevation cutoffs\n",
      "Number of samples after basic filtering 10269\n",
      "Final number of samples passed = 3153\n",
      "TODO implement min/max elevation cutoffs\n",
      "Number of samples after basic filtering 10269\n",
      "Final number of samples passed = 3153\n",
      "TODO implement min/max elevation cutoffs\n",
      "Number of samples after basic filtering 754\n",
      "Final number of samples passed = 466\n",
      "TODO implement min/max elevation cutoffs\n",
      "Number of samples after basic filtering 754\n",
      "Final number of samples passed = 466\n",
      "TODO implement min/max elevation cutoffs\n",
      "Number of samples after basic filtering 398\n",
      "Final number of samples passed = 262\n",
      "TODO implement min/max elevation cutoffs\n",
      "Number of samples after basic filtering 398\n",
      "Final number of samples passed = 262\n",
      "TODO implement min/max elevation cutoffs\n",
      "Number of samples after basic filtering 419\n",
      "Final number of samples passed = 280\n",
      "TODO implement min/max elevation cutoffs\n",
      "Number of samples after basic filtering 419\n",
      "Final number of samples passed = 280\n",
      "TODO implement min/max elevation cutoffs\n",
      "Number of samples after basic filtering 642\n",
      "Final number of samples passed = 419\n",
      "TODO implement min/max elevation cutoffs\n",
      "Number of samples after basic filtering 642\n",
      "Final number of samples passed = 419\n",
      "TODO implement min/max elevation cutoffs\n",
      "Number of samples after basic filtering 1032\n",
      "Final number of samples passed = 889\n",
      "TODO implement min/max elevation cutoffs\n",
      "Number of samples after basic filtering 1032\n",
      "Final number of samples passed = 889\n",
      "TODO implement min/max elevation cutoffs\n",
      "Number of samples after basic filtering 161\n",
      "Final number of samples passed = 135\n",
      "TODO implement min/max elevation cutoffs\n",
      "Number of samples after basic filtering 161\n",
      "Final number of samples passed = 135\n",
      "TODO implement min/max elevation cutoffs\n",
      "Number of samples after basic filtering 524\n",
      "Final number of samples passed = 390\n",
      "TODO implement min/max elevation cutoffs\n",
      "Number of samples after basic filtering 524\n",
      "Final number of samples passed = 390\n",
      "TODO implement min/max elevation cutoffs\n",
      "Number of samples after basic filtering 177\n",
      "Final number of samples passed = 149\n",
      "TODO implement min/max elevation cutoffs\n",
      "Number of samples after basic filtering 177\n",
      "Final number of samples passed = 149\n",
      "TODO implement min/max elevation cutoffs\n",
      "Number of samples after basic filtering 507\n",
      "Final number of samples passed = 346\n",
      "TODO implement min/max elevation cutoffs\n",
      "Number of samples after basic filtering 507\n",
      "Final number of samples passed = 346\n",
      "TODO implement min/max elevation cutoffs\n",
      "Number of samples after basic filtering 4893\n",
      "Final number of samples passed = 1187\n",
      "TODO implement min/max elevation cutoffs\n",
      "Number of samples after basic filtering 4893\n",
      "Final number of samples passed = 1187\n",
      "TODO implement min/max elevation cutoffs\n",
      "Number of samples after basic filtering 328\n",
      "Final number of samples passed = 266\n",
      "TODO implement min/max elevation cutoffs\n",
      "Number of samples after basic filtering 328\n",
      "Final number of samples passed = 266\n",
      "TODO implement min/max elevation cutoffs\n",
      "Number of samples after basic filtering 152\n",
      "Final number of samples passed = 122\n",
      "TODO implement min/max elevation cutoffs\n",
      "Number of samples after basic filtering 152\n",
      "Final number of samples passed = 122\n",
      "TODO implement min/max elevation cutoffs\n",
      "Number of samples after basic filtering 307\n",
      "Final number of samples passed = 263\n",
      "TODO implement min/max elevation cutoffs\n",
      "Number of samples after basic filtering 307\n",
      "Final number of samples passed = 263\n",
      "TODO implement min/max elevation cutoffs\n",
      "Number of samples after basic filtering 162\n",
      "Final number of samples passed = 129\n",
      "TODO implement min/max elevation cutoffs\n",
      "Number of samples after basic filtering 162\n",
      "Final number of samples passed = 129\n",
      "TODO implement min/max elevation cutoffs\n",
      "Number of samples after basic filtering 632\n",
      "Final number of samples passed = 446\n",
      "TODO implement min/max elevation cutoffs\n",
      "Number of samples after basic filtering 632\n",
      "Final number of samples passed = 446\n",
      "TODO implement min/max elevation cutoffs\n",
      "Number of samples after basic filtering 423\n",
      "Final number of samples passed = 319\n",
      "TODO implement min/max elevation cutoffs\n",
      "Number of samples after basic filtering 423\n",
      "Final number of samples passed = 319\n",
      "TODO implement min/max elevation cutoffs\n",
      "Number of samples after basic filtering 492\n",
      "Final number of samples passed = 364\n",
      "TODO implement min/max elevation cutoffs\n",
      "Number of samples after basic filtering 492\n",
      "Final number of samples passed = 364\n",
      "TODO implement min/max elevation cutoffs\n",
      "Number of samples after basic filtering 318\n",
      "Final number of samples passed = 113\n",
      "TODO implement min/max elevation cutoffs\n",
      "Number of samples after basic filtering 318\n",
      "Final number of samples passed = 113\n",
      "TODO implement min/max elevation cutoffs\n",
      "Number of samples after basic filtering 661\n",
      "Final number of samples passed = 297\n",
      "TODO implement min/max elevation cutoffs\n",
      "Number of samples after basic filtering 661\n",
      "Final number of samples passed = 297\n",
      "TODO implement min/max elevation cutoffs\n",
      "Number of samples after basic filtering 7155\n",
      "Final number of samples passed = 1006\n",
      "TODO implement min/max elevation cutoffs\n",
      "Number of samples after basic filtering 7155\n",
      "Final number of samples passed = 1006\n",
      "TODO implement min/max elevation cutoffs\n",
      "Number of samples after basic filtering 562\n",
      "Final number of samples passed = 374\n",
      "TODO implement min/max elevation cutoffs\n",
      "Number of samples after basic filtering 562\n",
      "Final number of samples passed = 374\n",
      "TODO implement min/max elevation cutoffs\n",
      "Number of samples after basic filtering 451\n",
      "Final number of samples passed = 377\n",
      "TODO implement min/max elevation cutoffs\n",
      "Number of samples after basic filtering 451\n",
      "Final number of samples passed = 377\n",
      "TODO implement min/max elevation cutoffs\n",
      "Number of samples after basic filtering 431\n",
      "Final number of samples passed = 261\n",
      "TODO implement min/max elevation cutoffs\n",
      "Number of samples after basic filtering 431\n",
      "Final number of samples passed = 261\n",
      "TODO implement min/max elevation cutoffs\n",
      "Number of samples after basic filtering 273\n",
      "Final number of samples passed = 237\n",
      "TODO implement min/max elevation cutoffs\n",
      "Number of samples after basic filtering 273\n",
      "Final number of samples passed = 237\n",
      "TODO implement min/max elevation cutoffs\n",
      "Number of samples after basic filtering 358\n",
      "Final number of samples passed = 307\n",
      "TODO implement min/max elevation cutoffs\n",
      "Number of samples after basic filtering 358\n",
      "Final number of samples passed = 307\n",
      "TODO implement min/max elevation cutoffs\n",
      "Number of samples after basic filtering 807\n",
      "Final number of samples passed = 636\n",
      "TODO implement min/max elevation cutoffs\n",
      "Number of samples after basic filtering 807\n",
      "Final number of samples passed = 636\n",
      "TODO implement min/max elevation cutoffs\n",
      "Number of samples after basic filtering 3792\n",
      "Final number of samples passed = 974\n",
      "TODO implement min/max elevation cutoffs\n",
      "Number of samples after basic filtering 3792\n",
      "Final number of samples passed = 974\n",
      "TODO implement min/max elevation cutoffs\n",
      "Number of samples after basic filtering 175\n",
      "Final number of samples passed = 163\n",
      "TODO implement min/max elevation cutoffs\n",
      "Number of samples after basic filtering 175\n",
      "Final number of samples passed = 163\n",
      "TODO implement min/max elevation cutoffs\n",
      "Number of samples after basic filtering 535\n",
      "Final number of samples passed = 505\n",
      "TODO implement min/max elevation cutoffs\n",
      "Number of samples after basic filtering 535\n",
      "Final number of samples passed = 505\n",
      "TODO implement min/max elevation cutoffs\n",
      "Number of samples after basic filtering 99\n",
      "Final number of samples passed = 89\n",
      "TODO implement min/max elevation cutoffs\n",
      "Number of samples after basic filtering 99\n",
      "Final number of samples passed = 89\n",
      "TODO implement min/max elevation cutoffs\n",
      "Number of samples after basic filtering 802\n",
      "Final number of samples passed = 548\n",
      "TODO implement min/max elevation cutoffs\n",
      "Number of samples after basic filtering 802\n",
      "Final number of samples passed = 548\n",
      "TODO implement min/max elevation cutoffs\n",
      "Number of samples after basic filtering 264\n",
      "Final number of samples passed = 236\n",
      "TODO implement min/max elevation cutoffs\n",
      "Number of samples after basic filtering 264\n",
      "Final number of samples passed = 236\n",
      "TODO implement min/max elevation cutoffs\n",
      "Number of samples after basic filtering 3759\n",
      "Final number of samples passed = 473\n",
      "TODO implement min/max elevation cutoffs\n",
      "Number of samples after basic filtering 3759\n",
      "Final number of samples passed = 473\n",
      "TODO implement min/max elevation cutoffs\n",
      "Number of samples after basic filtering 234\n",
      "Final number of samples passed = 180\n",
      "TODO implement min/max elevation cutoffs\n",
      "Number of samples after basic filtering 234\n",
      "Final number of samples passed = 180\n",
      "TODO implement min/max elevation cutoffs\n",
      "Number of samples after basic filtering 151\n",
      "Final number of samples passed = 88\n",
      "TODO implement min/max elevation cutoffs\n",
      "Number of samples after basic filtering 151\n",
      "Final number of samples passed = 88\n",
      "TODO implement min/max elevation cutoffs\n",
      "Number of samples after basic filtering 162\n",
      "Final number of samples passed = 114\n",
      "TODO implement min/max elevation cutoffs\n",
      "Number of samples after basic filtering 162\n",
      "Final number of samples passed = 114\n",
      "TODO implement min/max elevation cutoffs\n",
      "Number of samples after basic filtering 687\n",
      "Final number of samples passed = 427\n",
      "TODO implement min/max elevation cutoffs\n",
      "Number of samples after basic filtering 687\n",
      "Final number of samples passed = 427\n",
      "TODO implement min/max elevation cutoffs\n",
      "Number of samples after basic filtering 1366\n",
      "Final number of samples passed = 196\n",
      "TODO implement min/max elevation cutoffs\n",
      "Number of samples after basic filtering 1366\n",
      "Final number of samples passed = 196\n",
      "TODO implement min/max elevation cutoffs\n",
      "Number of samples after basic filtering 577\n",
      "Final number of samples passed = 315\n",
      "TODO implement min/max elevation cutoffs\n",
      "Number of samples after basic filtering 577\n",
      "Final number of samples passed = 315\n",
      "TODO implement min/max elevation cutoffs\n",
      "Number of samples after basic filtering 526\n",
      "Final number of samples passed = 393\n",
      "TODO implement min/max elevation cutoffs\n",
      "Number of samples after basic filtering 526\n",
      "Final number of samples passed = 393\n",
      "TODO implement min/max elevation cutoffs\n",
      "Number of samples after basic filtering 607\n",
      "Final number of samples passed = 376\n",
      "TODO implement min/max elevation cutoffs\n",
      "Number of samples after basic filtering 607\n",
      "Final number of samples passed = 376\n",
      "TODO implement min/max elevation cutoffs\n"
     ]
    },
    {
     "ename": "KeyError",
     "evalue": "385.0",
     "output_type": "error",
     "traceback": [
      "\u001b[0;31m---------------------------------------------------------------------------\u001b[0m",
      "\u001b[0;31mKeyError\u001b[0m                                  Traceback (most recent call last)",
      "Cell \u001b[0;32mIn[9], line 43\u001b[0m\n\u001b[1;32m     39\u001b[0m \u001b[38;5;28;01mfor\u001b[39;00m reconstruction_time \u001b[38;5;129;01min\u001b[39;00m np\u001b[38;5;241m.\u001b[39marange(\u001b[38;5;241m0\u001b[39m,MODEL[\u001b[38;5;124m'\u001b[39m\u001b[38;5;124mmaximum_time\u001b[39m\u001b[38;5;124m'\u001b[39m]\u001b[38;5;241m+\u001b[39mtime_bin_size,time_bin_size):\n\u001b[1;32m     41\u001b[0m     fig \u001b[38;5;241m=\u001b[39m pygmt\u001b[38;5;241m.\u001b[39mFigure()\n\u001b[0;32m---> 43\u001b[0m     binned_elevations \u001b[38;5;241m=\u001b[39m \u001b[43mjoymap\u001b[49m\u001b[38;5;241;43m.\u001b[39;49m\u001b[43mtimeslice_plot\u001b[49m\u001b[43m(\u001b[49m\u001b[43mdf\u001b[49m\u001b[43m,\u001b[49m\u001b[43m \u001b[49m\u001b[43mreconstruction_time\u001b[49m\u001b[43m,\u001b[49m\n\u001b[1;32m     44\u001b[0m \u001b[43m                                              \u001b[49m\u001b[43mtime_bin_size\u001b[49m\u001b[43m,\u001b[49m\u001b[43m \u001b[49m\u001b[43mspace_bin_size\u001b[49m\u001b[43m,\u001b[49m\u001b[43m \u001b[49m\n\u001b[1;32m     45\u001b[0m \u001b[43m                                              \u001b[49m\u001b[43mfig\u001b[49m\u001b[43m,\u001b[49m\u001b[43m \u001b[49m\u001b[43mraster_sequence\u001b[49m\u001b[43m,\u001b[49m\u001b[43m \u001b[49m\u001b[43mreconstruction_model\u001b[49m\u001b[43m,\u001b[49m\u001b[43m \u001b[49m\n\u001b[1;32m     46\u001b[0m \u001b[43m                                              \u001b[49m\u001b[43manchor_plate_id\u001b[49m\u001b[38;5;241;43m=\u001b[39;49m\u001b[43manchor_plate_id\u001b[49m\u001b[43m,\u001b[49m\u001b[43m \u001b[49m\u001b[43mraster_anchor_plate_id\u001b[49m\u001b[38;5;241;43m=\u001b[39;49m\u001b[43mraster_anchor_plate_id\u001b[49m\u001b[43m,\u001b[49m\n\u001b[1;32m     47\u001b[0m \u001b[43m                                              \u001b[49m\u001b[43mgc_interpolator_dict\u001b[49m\u001b[38;5;241;43m=\u001b[39;49m\u001b[43mgc_interpolator_dict\u001b[49m\u001b[43m,\u001b[49m\u001b[43m \u001b[49m\n\u001b[1;32m     48\u001b[0m \u001b[43m                                              \u001b[49m\u001b[43mcalibration\u001b[49m\u001b[38;5;241;43m=\u001b[39;49m\u001b[43mcalibration\u001b[49m\u001b[43m,\u001b[49m\u001b[43m \u001b[49m\u001b[43mmohometer_selection\u001b[49m\u001b[38;5;241;43m=\u001b[39;49m\u001b[43mmohometer_selection\u001b[49m\u001b[43m,\u001b[49m\n\u001b[1;32m     49\u001b[0m \u001b[43m                                              \u001b[49m\u001b[43mregion\u001b[49m\u001b[38;5;241;43m=\u001b[39;49m\u001b[43mregion\u001b[49m\u001b[43m,\u001b[49m\u001b[43m \u001b[49m\u001b[43mprojection\u001b[49m\u001b[38;5;241;43m=\u001b[39;49m\u001b[43mprojection\u001b[49m\u001b[43m,\u001b[49m\u001b[43m \u001b[49m\u001b[43mperspective\u001b[49m\u001b[38;5;241;43m=\u001b[39;49m\u001b[43mperspective\u001b[49m\u001b[43m,\u001b[49m\u001b[43m \u001b[49m\n\u001b[1;32m     50\u001b[0m \u001b[43m                                              \u001b[49m\u001b[43mcolumn_marker_size\u001b[49m\u001b[38;5;241;43m=\u001b[39;49m\u001b[43mcolumn_marker_size\u001b[49m\u001b[43m,\u001b[49m\n\u001b[1;32m     51\u001b[0m \u001b[43m                                              \u001b[49m\u001b[43mvolcanics\u001b[49m\u001b[38;5;241;43m=\u001b[39;49m\u001b[38;5;28;43;01mNone\u001b[39;49;00m\u001b[43m,\u001b[49m\u001b[43m \u001b[49m\u001b[43mreturn_type\u001b[49m\u001b[38;5;241;43m=\u001b[39;49m\u001b[38;5;124;43m'\u001b[39;49m\u001b[38;5;124;43mbinned_elevations\u001b[39;49m\u001b[38;5;124;43m'\u001b[39;49m\u001b[43m)\u001b[49m\n\u001b[1;32m     53\u001b[0m     joymap\u001b[38;5;241m.\u001b[39madd_labels(fig, reconstruction_time, add_colorbar\u001b[38;5;241m=\u001b[39m\u001b[38;5;28;01mTrue\u001b[39;00m)\n\u001b[1;32m     55\u001b[0m     fig\u001b[38;5;241m.\u001b[39msavefig(\u001b[38;5;124m'\u001b[39m\u001b[38;5;124m../images/sequence_\u001b[39m\u001b[38;5;132;01m{:s}\u001b[39;00m\u001b[38;5;124m/elevations_plus_volcanism_\u001b[39m\u001b[38;5;132;01m{:s}\u001b[39;00m\u001b[38;5;124m_\u001b[39m\u001b[38;5;132;01m{:s}\u001b[39;00m\u001b[38;5;124m_\u001b[39m\u001b[38;5;132;01m{:0.0f}\u001b[39;00m\u001b[38;5;124mMa.png\u001b[39m\u001b[38;5;124m'\u001b[39m\u001b[38;5;241m.\u001b[39mformat(MODEL[\u001b[38;5;124m'\u001b[39m\u001b[38;5;124mname\u001b[39m\u001b[38;5;124m'\u001b[39m],\n\u001b[1;32m     56\u001b[0m                                                                                                    calibration,\n\u001b[1;32m     57\u001b[0m                                                                                                    mohometer_description_string, \n\u001b[1;32m     58\u001b[0m                                                                                                    reconstruction_time))\n",
      "File \u001b[0;32m~/GIT/bx/global_paper/notebooks/../../andes_paper/python/joyful_mapping.py:179\u001b[0m, in \u001b[0;36mtimeslice_plot\u001b[0;34m(df, reconstruction_time, time_bin_size, space_bin_size, fig, raster_sequence, reconstruction_model, anchor_plate_id, raster_anchor_plate_id, calibration, mohometer_selection, gc_interpolator_dict, residuals, volcanics, return_type, column_marker_size, region, projection, perspective)\u001b[0m\n\u001b[1;32m    176\u001b[0m \u001b[38;5;28;01mif\u001b[39;00m raster_anchor_plate_id \u001b[38;5;129;01mis\u001b[39;00m \u001b[38;5;28;01mNone\u001b[39;00m:\n\u001b[1;32m    177\u001b[0m     raster_anchor_plate_id \u001b[38;5;241m=\u001b[39m anchor_plate_id\n\u001b[0;32m--> 179\u001b[0m filtered_topo \u001b[38;5;241m=\u001b[39m pygmt\u001b[38;5;241m.\u001b[39mgrdfilter(to_anchor_plate(\u001b[43mraster_sequence\u001b[49m\u001b[43m[\u001b[49m\u001b[43mreconstruction_time\u001b[49m\u001b[43m]\u001b[49m, \n\u001b[1;32m    180\u001b[0m                                                reconstruction_model, \n\u001b[1;32m    181\u001b[0m                                                reconstruction_time, \n\u001b[1;32m    182\u001b[0m                                                anchor_plate_id, \n\u001b[1;32m    183\u001b[0m                                                old_anchor_plate_id\u001b[38;5;241m=\u001b[39mraster_anchor_plate_id,\n\u001b[1;32m    184\u001b[0m                                                region\u001b[38;5;241m=\u001b[39mregion, spacing\u001b[38;5;241m=\u001b[39m\u001b[38;5;241m0.2\u001b[39m),\n\u001b[1;32m    185\u001b[0m                                distance\u001b[38;5;241m=\u001b[39m\u001b[38;5;124m'\u001b[39m\u001b[38;5;124m4\u001b[39m\u001b[38;5;124m'\u001b[39m,\n\u001b[1;32m    186\u001b[0m                                \u001b[38;5;28mfilter\u001b[39m\u001b[38;5;241m=\u001b[39m\u001b[38;5;124m'\u001b[39m\u001b[38;5;124mm250+g0.5\u001b[39m\u001b[38;5;124m'\u001b[39m,\n\u001b[1;32m    187\u001b[0m                                spacing\u001b[38;5;241m=\u001b[39m\u001b[38;5;241m0.25\u001b[39m,\n\u001b[1;32m    188\u001b[0m                                coltypes\u001b[38;5;241m=\u001b[39m\u001b[38;5;124m'\u001b[39m\u001b[38;5;124mg\u001b[39m\u001b[38;5;124m'\u001b[39m)\n\u001b[1;32m    190\u001b[0m df_filt_r \u001b[38;5;241m=\u001b[39m geochem_timeslice(df, reconstruction_time, time_bin_size, calibration\u001b[38;5;241m=\u001b[39mcalibration,\n\u001b[1;32m    191\u001b[0m                               reconstruction_model\u001b[38;5;241m=\u001b[39mreconstruction_model, anchor_plate_id\u001b[38;5;241m=\u001b[39manchor_plate_id)\n\u001b[1;32m    193\u001b[0m elevation_estimates \u001b[38;5;241m=\u001b[39m joy\u001b[38;5;241m.\u001b[39mget_elevations(df_filt_r, \n\u001b[1;32m    194\u001b[0m                                          gc_interpolator_dict\u001b[38;5;241m=\u001b[39mgc_interpolator_dict,\n\u001b[1;32m    195\u001b[0m                                          calibration\u001b[38;5;241m=\u001b[39mcalibration,\n\u001b[1;32m    196\u001b[0m                                          mohometer_selection\u001b[38;5;241m=\u001b[39mmohometer_selection)\n",
      "\u001b[0;31mKeyError\u001b[0m: 385.0"
     ]
    }
   ],
   "source": [
    "###########################################\n",
    "MODEL = PaleomapDictionary\n",
    "###########################################\n",
    "\n",
    "region = [-180, 180, -89, 89]\n",
    "#region = [-76, -66, -25, -12]\n",
    "projection=\"Q20c\"\n",
    "perspective = [210, 35]\n",
    "\n",
    "column_marker_size = '0.1c'\n",
    "###########################################\n",
    "\n",
    "\n",
    "\n",
    "time_bin_size = MODEL['time_bin_size']\n",
    "space_bin_size = 1.\n",
    "\n",
    "#calibration = 'Hu'\n",
    "#mohometer_selection = ['la_yb_elevation']\n",
    "\n",
    "calibration = 'luffi'\n",
    "mohometer_selection = 50\n",
    "\n",
    "anchor_plate_id = MODEL['anchor_plate_id']\n",
    "raster_anchor_plate_id = MODEL['raster_anchor_plate_id']\n",
    "\n",
    "reconstruction_model = MODEL['reconstruction_model']\n",
    "raster_sequence = MODEL['raster_sequence']\n",
    "\n",
    "\n",
    "\n",
    "if isinstance(mohometer_selection, list):\n",
    "    mohometer_description_string = '|'.join(mohometer_selection)\n",
    "else:\n",
    "    mohometer_description_string = str(mohometer_selection)\n",
    "\n",
    "    \n",
    "    \n",
    "for reconstruction_time in np.arange(0,MODEL['maximum_time']+time_bin_size,time_bin_size):\n",
    "    \n",
    "    fig = pygmt.Figure()\n",
    "\n",
    "    binned_elevations = joymap.timeslice_plot(df, reconstruction_time,\n",
    "                                              time_bin_size, space_bin_size, \n",
    "                                              fig, reconstruction_model, raster_sequence,  \n",
    "                                              anchor_plate_id=anchor_plate_id, raster_anchor_plate_id=raster_anchor_plate_id,\n",
    "                                              gc_interpolator_dict=gc_interpolator_dict, \n",
    "                                              calibration=calibration, mohometer_selection=mohometer_selection,\n",
    "                                              region=region, projection=projection, perspective=perspective, \n",
    "                                              column_marker_size=column_marker_size,\n",
    "                                              volcanics=None, return_type='binned_elevations')\n",
    "    \n",
    "    joymap.add_labels(fig, reconstruction_time, add_colorbar=True)\n",
    "    \n",
    "    fig.savefig('../images/sequence_{:s}/elevations_plus_volcanism_{:s}_{:s}_{:0.0f}Ma.png'.format(MODEL['name'],\n",
    "                                                                                                   calibration,\n",
    "                                                                                                   mohometer_description_string, \n",
    "                                                                                                   reconstruction_time))\n",
    "    #fig.show(width=1000)\n",
    "    \n",
    "    fig = pygmt.Figure()\n",
    "\n",
    "    binned_residuals = joymap.timeslice_plot(df, reconstruction_time,\n",
    "                                             time_bin_size, space_bin_size, \n",
    "                                             fig, reconstruction_model, raster_sequence,\n",
    "                                             anchor_plate_id=anchor_plate_id, raster_anchor_plate_id=raster_anchor_plate_id,\n",
    "                                             gc_interpolator_dict=gc_interpolator_dict, \n",
    "                                             calibration=calibration, mohometer_selection=mohometer_selection,\n",
    "                                             region=region, projection=projection, perspective=perspective, \n",
    "                                             column_marker_size=column_marker_size,\n",
    "                                             volcanics=None, residuals=True, return_type='binned_residuals')\n",
    "    \n",
    "    joymap.add_labels(fig, reconstruction_time, add_colorbar=True, colorbar_title='Residual Elevation [m]')\n",
    "    \n",
    "    fig.savefig('../images/sequence_{:s}/elevation_residuals_{:s}_{:s}_{:0.0f}Ma.png'.format(MODEL['name'],\n",
    "                                                                                   calibration,\n",
    "                                                                                   mohometer_description_string, \n",
    "                                                                                   reconstruction_time))\n",
    "    #fig.show(width=1000)\n",
    "    \n",
    "    joymap.residuals_crossplot(binned_elevations, binned_residuals,\n",
    "                               fname='../images/sequence_{:s}/crossplot_{:s}_{:s}_{:0.1f}Ma.png'.format(MODEL['name'],\n",
    "                                                                                                        calibration,\n",
    "                                                                                                        mohometer_description_string, \n",
    "                                                                                                        reconstruction_time))\n",
    "    #break\n",
    "    \n"
   ]
  },
  {
   "cell_type": "code",
   "execution_count": 22,
   "id": "d5be5318-5ee4-47b2-8d23-b3066c3e13e7",
   "metadata": {},
   "outputs": [
    {
     "name": "stderr",
     "output_type": "stream",
     "text": [
      "/Users/Simon/GIT/GPlatesReconstructionModel/gprm/GPlatesReconstructionModel.py:640: FutureWarning: The 'color' parameter has been deprecated since v0.8.0 and will be removed in v0.12.0. Please use 'fill' instead.\n",
      "  fig.plot(data = plot_file.name, pen=pen, color=color, **kwargs)\n",
      "/Users/Simon/GIT/GPlatesReconstructionModel/gprm/GPlatesReconstructionModel.py:875: FutureWarning: The 'color' parameter has been deprecated since v0.8.0 and will be removed in v0.12.0. Please use 'fill' instead.\n",
      "  fig.plot(data = plot_file.name, color=color, style='f{:f}p/{:f}p+r+t'.format(float(gap), float(size)), **kwargs)\n"
     ]
    },
    {
     "name": "stdout",
     "output_type": "stream",
     "text": [
      "Number of samples after basic filtering 432650\n",
      "Final number of samples passed = 253901\n",
      "TODO implement min/max elevation cutoffs\n"
     ]
    },
    {
     "name": "stderr",
     "output_type": "stream",
     "text": [
      "/Users/Simon/GIT/GPlatesReconstructionModel/gprm/GPlatesReconstructionModel.py:640: FutureWarning: The 'color' parameter has been deprecated since v0.8.0 and will be removed in v0.12.0. Please use 'fill' instead.\n",
      "  fig.plot(data = plot_file.name, pen=pen, color=color, **kwargs)\n",
      "/Users/Simon/GIT/GPlatesReconstructionModel/gprm/GPlatesReconstructionModel.py:875: FutureWarning: The 'color' parameter has been deprecated since v0.8.0 and will be removed in v0.12.0. Please use 'fill' instead.\n",
      "  fig.plot(data = plot_file.name, color=color, style='f{:f}p/{:f}p+r+t'.format(float(gap), float(size)), **kwargs)\n"
     ]
    },
    {
     "name": "stdout",
     "output_type": "stream",
     "text": [
      "Number of samples after basic filtering 45689\n",
      "Final number of samples passed = 26993\n",
      "TODO implement min/max elevation cutoffs\n"
     ]
    },
    {
     "name": "stderr",
     "output_type": "stream",
     "text": [
      "/Users/Simon/GIT/GPlatesReconstructionModel/gprm/GPlatesReconstructionModel.py:640: FutureWarning: The 'color' parameter has been deprecated since v0.8.0 and will be removed in v0.12.0. Please use 'fill' instead.\n",
      "  fig.plot(data = plot_file.name, pen=pen, color=color, **kwargs)\n",
      "/Users/Simon/GIT/GPlatesReconstructionModel/gprm/GPlatesReconstructionModel.py:875: FutureWarning: The 'color' parameter has been deprecated since v0.8.0 and will be removed in v0.12.0. Please use 'fill' instead.\n",
      "  fig.plot(data = plot_file.name, color=color, style='f{:f}p/{:f}p+r+t'.format(float(gap), float(size)), **kwargs)\n"
     ]
    },
    {
     "name": "stdout",
     "output_type": "stream",
     "text": [
      "Number of samples after basic filtering 38087\n",
      "Final number of samples passed = 18785\n",
      "TODO implement min/max elevation cutoffs\n"
     ]
    },
    {
     "name": "stderr",
     "output_type": "stream",
     "text": [
      "/Users/Simon/GIT/GPlatesReconstructionModel/gprm/GPlatesReconstructionModel.py:640: FutureWarning: The 'color' parameter has been deprecated since v0.8.0 and will be removed in v0.12.0. Please use 'fill' instead.\n",
      "  fig.plot(data = plot_file.name, pen=pen, color=color, **kwargs)\n",
      "/Users/Simon/GIT/GPlatesReconstructionModel/gprm/GPlatesReconstructionModel.py:875: FutureWarning: The 'color' parameter has been deprecated since v0.8.0 and will be removed in v0.12.0. Please use 'fill' instead.\n",
      "  fig.plot(data = plot_file.name, color=color, style='f{:f}p/{:f}p+r+t'.format(float(gap), float(size)), **kwargs)\n"
     ]
    },
    {
     "name": "stdout",
     "output_type": "stream",
     "text": [
      "Number of samples after basic filtering 4908\n",
      "Final number of samples passed = 3247\n",
      "TODO implement min/max elevation cutoffs\n"
     ]
    },
    {
     "name": "stderr",
     "output_type": "stream",
     "text": [
      "/Users/Simon/GIT/GPlatesReconstructionModel/gprm/GPlatesReconstructionModel.py:640: FutureWarning: The 'color' parameter has been deprecated since v0.8.0 and will be removed in v0.12.0. Please use 'fill' instead.\n",
      "  fig.plot(data = plot_file.name, pen=pen, color=color, **kwargs)\n",
      "/Users/Simon/GIT/GPlatesReconstructionModel/gprm/GPlatesReconstructionModel.py:875: FutureWarning: The 'color' parameter has been deprecated since v0.8.0 and will be removed in v0.12.0. Please use 'fill' instead.\n",
      "  fig.plot(data = plot_file.name, color=color, style='f{:f}p/{:f}p+r+t'.format(float(gap), float(size)), **kwargs)\n"
     ]
    },
    {
     "name": "stdout",
     "output_type": "stream",
     "text": [
      "Number of samples after basic filtering 7335\n",
      "Final number of samples passed = 5062\n",
      "TODO implement min/max elevation cutoffs\n"
     ]
    },
    {
     "name": "stderr",
     "output_type": "stream",
     "text": [
      "/Users/Simon/GIT/GPlatesReconstructionModel/gprm/GPlatesReconstructionModel.py:640: FutureWarning: The 'color' parameter has been deprecated since v0.8.0 and will be removed in v0.12.0. Please use 'fill' instead.\n",
      "  fig.plot(data = plot_file.name, pen=pen, color=color, **kwargs)\n",
      "/Users/Simon/GIT/GPlatesReconstructionModel/gprm/GPlatesReconstructionModel.py:875: FutureWarning: The 'color' parameter has been deprecated since v0.8.0 and will be removed in v0.12.0. Please use 'fill' instead.\n",
      "  fig.plot(data = plot_file.name, color=color, style='f{:f}p/{:f}p+r+t'.format(float(gap), float(size)), **kwargs)\n"
     ]
    },
    {
     "name": "stdout",
     "output_type": "stream",
     "text": [
      "Number of samples after basic filtering 17793\n",
      "Final number of samples passed = 8640\n",
      "TODO implement min/max elevation cutoffs\n"
     ]
    },
    {
     "name": "stderr",
     "output_type": "stream",
     "text": [
      "/Users/Simon/GIT/GPlatesReconstructionModel/gprm/GPlatesReconstructionModel.py:640: FutureWarning: The 'color' parameter has been deprecated since v0.8.0 and will be removed in v0.12.0. Please use 'fill' instead.\n",
      "  fig.plot(data = plot_file.name, pen=pen, color=color, **kwargs)\n",
      "/Users/Simon/GIT/GPlatesReconstructionModel/gprm/GPlatesReconstructionModel.py:875: FutureWarning: The 'color' parameter has been deprecated since v0.8.0 and will be removed in v0.12.0. Please use 'fill' instead.\n",
      "  fig.plot(data = plot_file.name, color=color, style='f{:f}p/{:f}p+r+t'.format(float(gap), float(size)), **kwargs)\n"
     ]
    },
    {
     "name": "stdout",
     "output_type": "stream",
     "text": [
      "Number of samples after basic filtering 4792\n",
      "Final number of samples passed = 3301\n",
      "TODO implement min/max elevation cutoffs\n"
     ]
    },
    {
     "name": "stderr",
     "output_type": "stream",
     "text": [
      "/Users/Simon/GIT/GPlatesReconstructionModel/gprm/GPlatesReconstructionModel.py:640: FutureWarning: The 'color' parameter has been deprecated since v0.8.0 and will be removed in v0.12.0. Please use 'fill' instead.\n",
      "  fig.plot(data = plot_file.name, pen=pen, color=color, **kwargs)\n",
      "/Users/Simon/GIT/GPlatesReconstructionModel/gprm/GPlatesReconstructionModel.py:875: FutureWarning: The 'color' parameter has been deprecated since v0.8.0 and will be removed in v0.12.0. Please use 'fill' instead.\n",
      "  fig.plot(data = plot_file.name, color=color, style='f{:f}p/{:f}p+r+t'.format(float(gap), float(size)), **kwargs)\n"
     ]
    },
    {
     "name": "stdout",
     "output_type": "stream",
     "text": [
      "Number of samples after basic filtering 2323\n",
      "Final number of samples passed = 1582\n",
      "TODO implement min/max elevation cutoffs\n"
     ]
    },
    {
     "name": "stderr",
     "output_type": "stream",
     "text": [
      "/Users/Simon/GIT/GPlatesReconstructionModel/gprm/GPlatesReconstructionModel.py:640: FutureWarning: The 'color' parameter has been deprecated since v0.8.0 and will be removed in v0.12.0. Please use 'fill' instead.\n",
      "  fig.plot(data = plot_file.name, pen=pen, color=color, **kwargs)\n",
      "/Users/Simon/GIT/GPlatesReconstructionModel/gprm/GPlatesReconstructionModel.py:875: FutureWarning: The 'color' parameter has been deprecated since v0.8.0 and will be removed in v0.12.0. Please use 'fill' instead.\n",
      "  fig.plot(data = plot_file.name, color=color, style='f{:f}p/{:f}p+r+t'.format(float(gap), float(size)), **kwargs)\n"
     ]
    },
    {
     "name": "stdout",
     "output_type": "stream",
     "text": [
      "Number of samples after basic filtering 7299\n",
      "Final number of samples passed = 4099\n",
      "TODO implement min/max elevation cutoffs\n"
     ]
    },
    {
     "name": "stderr",
     "output_type": "stream",
     "text": [
      "/Users/Simon/GIT/GPlatesReconstructionModel/gprm/GPlatesReconstructionModel.py:640: FutureWarning: The 'color' parameter has been deprecated since v0.8.0 and will be removed in v0.12.0. Please use 'fill' instead.\n",
      "  fig.plot(data = plot_file.name, pen=pen, color=color, **kwargs)\n",
      "/Users/Simon/GIT/GPlatesReconstructionModel/gprm/GPlatesReconstructionModel.py:875: FutureWarning: The 'color' parameter has been deprecated since v0.8.0 and will be removed in v0.12.0. Please use 'fill' instead.\n",
      "  fig.plot(data = plot_file.name, color=color, style='f{:f}p/{:f}p+r+t'.format(float(gap), float(size)), **kwargs)\n"
     ]
    },
    {
     "name": "stdout",
     "output_type": "stream",
     "text": [
      "Number of samples after basic filtering 11322\n",
      "Final number of samples passed = 3834\n",
      "TODO implement min/max elevation cutoffs\n"
     ]
    },
    {
     "name": "stderr",
     "output_type": "stream",
     "text": [
      "/Users/Simon/GIT/GPlatesReconstructionModel/gprm/GPlatesReconstructionModel.py:640: FutureWarning: The 'color' parameter has been deprecated since v0.8.0 and will be removed in v0.12.0. Please use 'fill' instead.\n",
      "  fig.plot(data = plot_file.name, pen=pen, color=color, **kwargs)\n",
      "/Users/Simon/GIT/GPlatesReconstructionModel/gprm/GPlatesReconstructionModel.py:875: FutureWarning: The 'color' parameter has been deprecated since v0.8.0 and will be removed in v0.12.0. Please use 'fill' instead.\n",
      "  fig.plot(data = plot_file.name, color=color, style='f{:f}p/{:f}p+r+t'.format(float(gap), float(size)), **kwargs)\n"
     ]
    },
    {
     "name": "stdout",
     "output_type": "stream",
     "text": [
      "Number of samples after basic filtering 2206\n",
      "Final number of samples passed = 1719\n",
      "TODO implement min/max elevation cutoffs\n"
     ]
    },
    {
     "name": "stderr",
     "output_type": "stream",
     "text": [
      "/Users/Simon/GIT/GPlatesReconstructionModel/gprm/GPlatesReconstructionModel.py:640: FutureWarning: The 'color' parameter has been deprecated since v0.8.0 and will be removed in v0.12.0. Please use 'fill' instead.\n",
      "  fig.plot(data = plot_file.name, pen=pen, color=color, **kwargs)\n",
      "/Users/Simon/GIT/GPlatesReconstructionModel/gprm/GPlatesReconstructionModel.py:875: FutureWarning: The 'color' parameter has been deprecated since v0.8.0 and will be removed in v0.12.0. Please use 'fill' instead.\n",
      "  fig.plot(data = plot_file.name, color=color, style='f{:f}p/{:f}p+r+t'.format(float(gap), float(size)), **kwargs)\n"
     ]
    },
    {
     "name": "stdout",
     "output_type": "stream",
     "text": [
      "Number of samples after basic filtering 5532\n",
      "Final number of samples passed = 1863\n",
      "TODO implement min/max elevation cutoffs\n"
     ]
    },
    {
     "name": "stderr",
     "output_type": "stream",
     "text": [
      "/Users/Simon/GIT/GPlatesReconstructionModel/gprm/GPlatesReconstructionModel.py:640: FutureWarning: The 'color' parameter has been deprecated since v0.8.0 and will be removed in v0.12.0. Please use 'fill' instead.\n",
      "  fig.plot(data = plot_file.name, pen=pen, color=color, **kwargs)\n",
      "/Users/Simon/GIT/GPlatesReconstructionModel/gprm/GPlatesReconstructionModel.py:875: FutureWarning: The 'color' parameter has been deprecated since v0.8.0 and will be removed in v0.12.0. Please use 'fill' instead.\n",
      "  fig.plot(data = plot_file.name, color=color, style='f{:f}p/{:f}p+r+t'.format(float(gap), float(size)), **kwargs)\n"
     ]
    },
    {
     "name": "stdout",
     "output_type": "stream",
     "text": [
      "Number of samples after basic filtering 917\n",
      "Final number of samples passed = 771\n",
      "TODO implement min/max elevation cutoffs\n"
     ]
    },
    {
     "name": "stderr",
     "output_type": "stream",
     "text": [
      "/Users/Simon/GIT/GPlatesReconstructionModel/gprm/GPlatesReconstructionModel.py:640: FutureWarning: The 'color' parameter has been deprecated since v0.8.0 and will be removed in v0.12.0. Please use 'fill' instead.\n",
      "  fig.plot(data = plot_file.name, pen=pen, color=color, **kwargs)\n",
      "/Users/Simon/GIT/GPlatesReconstructionModel/gprm/GPlatesReconstructionModel.py:875: FutureWarning: The 'color' parameter has been deprecated since v0.8.0 and will be removed in v0.12.0. Please use 'fill' instead.\n",
      "  fig.plot(data = plot_file.name, color=color, style='f{:f}p/{:f}p+r+t'.format(float(gap), float(size)), **kwargs)\n"
     ]
    },
    {
     "name": "stdout",
     "output_type": "stream",
     "text": [
      "Number of samples after basic filtering 1425\n",
      "Final number of samples passed = 1070\n",
      "TODO implement min/max elevation cutoffs\n"
     ]
    },
    {
     "name": "stderr",
     "output_type": "stream",
     "text": [
      "/Users/Simon/GIT/GPlatesReconstructionModel/gprm/GPlatesReconstructionModel.py:640: FutureWarning: The 'color' parameter has been deprecated since v0.8.0 and will be removed in v0.12.0. Please use 'fill' instead.\n",
      "  fig.plot(data = plot_file.name, pen=pen, color=color, **kwargs)\n",
      "/Users/Simon/GIT/GPlatesReconstructionModel/gprm/GPlatesReconstructionModel.py:875: FutureWarning: The 'color' parameter has been deprecated since v0.8.0 and will be removed in v0.12.0. Please use 'fill' instead.\n",
      "  fig.plot(data = plot_file.name, color=color, style='f{:f}p/{:f}p+r+t'.format(float(gap), float(size)), **kwargs)\n"
     ]
    },
    {
     "name": "stdout",
     "output_type": "stream",
     "text": [
      "Number of samples after basic filtering 7668\n",
      "Final number of samples passed = 1996\n",
      "TODO implement min/max elevation cutoffs\n"
     ]
    },
    {
     "name": "stderr",
     "output_type": "stream",
     "text": [
      "/Users/Simon/GIT/GPlatesReconstructionModel/gprm/GPlatesReconstructionModel.py:640: FutureWarning: The 'color' parameter has been deprecated since v0.8.0 and will be removed in v0.12.0. Please use 'fill' instead.\n",
      "  fig.plot(data = plot_file.name, pen=pen, color=color, **kwargs)\n",
      "/Users/Simon/GIT/GPlatesReconstructionModel/gprm/GPlatesReconstructionModel.py:875: FutureWarning: The 'color' parameter has been deprecated since v0.8.0 and will be removed in v0.12.0. Please use 'fill' instead.\n",
      "  fig.plot(data = plot_file.name, color=color, style='f{:f}p/{:f}p+r+t'.format(float(gap), float(size)), **kwargs)\n"
     ]
    },
    {
     "name": "stdout",
     "output_type": "stream",
     "text": [
      "Number of samples after basic filtering 1491\n",
      "Final number of samples passed = 1264\n",
      "TODO implement min/max elevation cutoffs\n"
     ]
    },
    {
     "name": "stderr",
     "output_type": "stream",
     "text": [
      "/Users/Simon/GIT/GPlatesReconstructionModel/gprm/GPlatesReconstructionModel.py:640: FutureWarning: The 'color' parameter has been deprecated since v0.8.0 and will be removed in v0.12.0. Please use 'fill' instead.\n",
      "  fig.plot(data = plot_file.name, pen=pen, color=color, **kwargs)\n",
      "/Users/Simon/GIT/GPlatesReconstructionModel/gprm/GPlatesReconstructionModel.py:875: FutureWarning: The 'color' parameter has been deprecated since v0.8.0 and will be removed in v0.12.0. Please use 'fill' instead.\n",
      "  fig.plot(data = plot_file.name, color=color, style='f{:f}p/{:f}p+r+t'.format(float(gap), float(size)), **kwargs)\n"
     ]
    },
    {
     "name": "stdout",
     "output_type": "stream",
     "text": [
      "Number of samples after basic filtering 3419\n",
      "Final number of samples passed = 1650\n",
      "TODO implement min/max elevation cutoffs\n"
     ]
    },
    {
     "name": "stderr",
     "output_type": "stream",
     "text": [
      "/Users/Simon/GIT/GPlatesReconstructionModel/gprm/GPlatesReconstructionModel.py:640: FutureWarning: The 'color' parameter has been deprecated since v0.8.0 and will be removed in v0.12.0. Please use 'fill' instead.\n",
      "  fig.plot(data = plot_file.name, pen=pen, color=color, **kwargs)\n",
      "/Users/Simon/GIT/GPlatesReconstructionModel/gprm/GPlatesReconstructionModel.py:875: FutureWarning: The 'color' parameter has been deprecated since v0.8.0 and will be removed in v0.12.0. Please use 'fill' instead.\n",
      "  fig.plot(data = plot_file.name, color=color, style='f{:f}p/{:f}p+r+t'.format(float(gap), float(size)), **kwargs)\n"
     ]
    },
    {
     "name": "stdout",
     "output_type": "stream",
     "text": [
      "Number of samples after basic filtering 3525\n",
      "Final number of samples passed = 914\n",
      "TODO implement min/max elevation cutoffs\n"
     ]
    },
    {
     "name": "stderr",
     "output_type": "stream",
     "text": [
      "/Users/Simon/GIT/GPlatesReconstructionModel/gprm/GPlatesReconstructionModel.py:640: FutureWarning: The 'color' parameter has been deprecated since v0.8.0 and will be removed in v0.12.0. Please use 'fill' instead.\n",
      "  fig.plot(data = plot_file.name, pen=pen, color=color, **kwargs)\n",
      "/Users/Simon/GIT/GPlatesReconstructionModel/gprm/GPlatesReconstructionModel.py:875: FutureWarning: The 'color' parameter has been deprecated since v0.8.0 and will be removed in v0.12.0. Please use 'fill' instead.\n",
      "  fig.plot(data = plot_file.name, color=color, style='f{:f}p/{:f}p+r+t'.format(float(gap), float(size)), **kwargs)\n"
     ]
    },
    {
     "name": "stdout",
     "output_type": "stream",
     "text": [
      "Number of samples after basic filtering 1338\n",
      "Final number of samples passed = 920\n",
      "TODO implement min/max elevation cutoffs\n"
     ]
    },
    {
     "name": "stderr",
     "output_type": "stream",
     "text": [
      "/Users/Simon/GIT/GPlatesReconstructionModel/gprm/GPlatesReconstructionModel.py:640: FutureWarning: The 'color' parameter has been deprecated since v0.8.0 and will be removed in v0.12.0. Please use 'fill' instead.\n",
      "  fig.plot(data = plot_file.name, pen=pen, color=color, **kwargs)\n",
      "/Users/Simon/GIT/GPlatesReconstructionModel/gprm/GPlatesReconstructionModel.py:875: FutureWarning: The 'color' parameter has been deprecated since v0.8.0 and will be removed in v0.12.0. Please use 'fill' instead.\n",
      "  fig.plot(data = plot_file.name, color=color, style='f{:f}p/{:f}p+r+t'.format(float(gap), float(size)), **kwargs)\n"
     ]
    },
    {
     "name": "stdout",
     "output_type": "stream",
     "text": [
      "Number of samples after basic filtering 5262\n",
      "Final number of samples passed = 2922\n",
      "TODO implement min/max elevation cutoffs\n"
     ]
    },
    {
     "name": "stderr",
     "output_type": "stream",
     "text": [
      "/Users/Simon/GIT/GPlatesReconstructionModel/gprm/GPlatesReconstructionModel.py:640: FutureWarning: The 'color' parameter has been deprecated since v0.8.0 and will be removed in v0.12.0. Please use 'fill' instead.\n",
      "  fig.plot(data = plot_file.name, pen=pen, color=color, **kwargs)\n",
      "/Users/Simon/GIT/GPlatesReconstructionModel/gprm/GPlatesReconstructionModel.py:875: FutureWarning: The 'color' parameter has been deprecated since v0.8.0 and will be removed in v0.12.0. Please use 'fill' instead.\n",
      "  fig.plot(data = plot_file.name, color=color, style='f{:f}p/{:f}p+r+t'.format(float(gap), float(size)), **kwargs)\n"
     ]
    },
    {
     "name": "stdout",
     "output_type": "stream",
     "text": [
      "Number of samples after basic filtering 7832\n",
      "Final number of samples passed = 5477\n",
      "TODO implement min/max elevation cutoffs\n"
     ]
    },
    {
     "name": "stderr",
     "output_type": "stream",
     "text": [
      "/Users/Simon/GIT/GPlatesReconstructionModel/gprm/GPlatesReconstructionModel.py:640: FutureWarning: The 'color' parameter has been deprecated since v0.8.0 and will be removed in v0.12.0. Please use 'fill' instead.\n",
      "  fig.plot(data = plot_file.name, pen=pen, color=color, **kwargs)\n",
      "/Users/Simon/GIT/GPlatesReconstructionModel/gprm/GPlatesReconstructionModel.py:875: FutureWarning: The 'color' parameter has been deprecated since v0.8.0 and will be removed in v0.12.0. Please use 'fill' instead.\n",
      "  fig.plot(data = plot_file.name, color=color, style='f{:f}p/{:f}p+r+t'.format(float(gap), float(size)), **kwargs)\n"
     ]
    },
    {
     "name": "stdout",
     "output_type": "stream",
     "text": [
      "Number of samples after basic filtering 4466\n",
      "Final number of samples passed = 3296\n",
      "TODO implement min/max elevation cutoffs\n"
     ]
    },
    {
     "name": "stderr",
     "output_type": "stream",
     "text": [
      "/Users/Simon/GIT/GPlatesReconstructionModel/gprm/GPlatesReconstructionModel.py:640: FutureWarning: The 'color' parameter has been deprecated since v0.8.0 and will be removed in v0.12.0. Please use 'fill' instead.\n",
      "  fig.plot(data = plot_file.name, pen=pen, color=color, **kwargs)\n",
      "/Users/Simon/GIT/GPlatesReconstructionModel/gprm/GPlatesReconstructionModel.py:875: FutureWarning: The 'color' parameter has been deprecated since v0.8.0 and will be removed in v0.12.0. Please use 'fill' instead.\n",
      "  fig.plot(data = plot_file.name, color=color, style='f{:f}p/{:f}p+r+t'.format(float(gap), float(size)), **kwargs)\n"
     ]
    },
    {
     "name": "stdout",
     "output_type": "stream",
     "text": [
      "Number of samples after basic filtering 2881\n",
      "Final number of samples passed = 2471\n",
      "TODO implement min/max elevation cutoffs\n"
     ]
    },
    {
     "name": "stderr",
     "output_type": "stream",
     "text": [
      "/Users/Simon/GIT/GPlatesReconstructionModel/gprm/GPlatesReconstructionModel.py:640: FutureWarning: The 'color' parameter has been deprecated since v0.8.0 and will be removed in v0.12.0. Please use 'fill' instead.\n",
      "  fig.plot(data = plot_file.name, pen=pen, color=color, **kwargs)\n",
      "/Users/Simon/GIT/GPlatesReconstructionModel/gprm/GPlatesReconstructionModel.py:875: FutureWarning: The 'color' parameter has been deprecated since v0.8.0 and will be removed in v0.12.0. Please use 'fill' instead.\n",
      "  fig.plot(data = plot_file.name, color=color, style='f{:f}p/{:f}p+r+t'.format(float(gap), float(size)), **kwargs)\n"
     ]
    },
    {
     "name": "stdout",
     "output_type": "stream",
     "text": [
      "Number of samples after basic filtering 3830\n",
      "Final number of samples passed = 1921\n",
      "TODO implement min/max elevation cutoffs\n"
     ]
    },
    {
     "name": "stderr",
     "output_type": "stream",
     "text": [
      "/Users/Simon/GIT/GPlatesReconstructionModel/gprm/GPlatesReconstructionModel.py:640: FutureWarning: The 'color' parameter has been deprecated since v0.8.0 and will be removed in v0.12.0. Please use 'fill' instead.\n",
      "  fig.plot(data = plot_file.name, pen=pen, color=color, **kwargs)\n",
      "/Users/Simon/GIT/GPlatesReconstructionModel/gprm/GPlatesReconstructionModel.py:875: FutureWarning: The 'color' parameter has been deprecated since v0.8.0 and will be removed in v0.12.0. Please use 'fill' instead.\n",
      "  fig.plot(data = plot_file.name, color=color, style='f{:f}p/{:f}p+r+t'.format(float(gap), float(size)), **kwargs)\n"
     ]
    },
    {
     "name": "stdout",
     "output_type": "stream",
     "text": [
      "Number of samples after basic filtering 1118\n",
      "Final number of samples passed = 905\n",
      "TODO implement min/max elevation cutoffs\n"
     ]
    },
    {
     "name": "stderr",
     "output_type": "stream",
     "text": [
      "/Users/Simon/GIT/GPlatesReconstructionModel/gprm/GPlatesReconstructionModel.py:640: FutureWarning: The 'color' parameter has been deprecated since v0.8.0 and will be removed in v0.12.0. Please use 'fill' instead.\n",
      "  fig.plot(data = plot_file.name, pen=pen, color=color, **kwargs)\n",
      "/Users/Simon/GIT/GPlatesReconstructionModel/gprm/GPlatesReconstructionModel.py:875: FutureWarning: The 'color' parameter has been deprecated since v0.8.0 and will be removed in v0.12.0. Please use 'fill' instead.\n",
      "  fig.plot(data = plot_file.name, color=color, style='f{:f}p/{:f}p+r+t'.format(float(gap), float(size)), **kwargs)\n"
     ]
    },
    {
     "name": "stdout",
     "output_type": "stream",
     "text": [
      "Number of samples after basic filtering 1340\n",
      "Final number of samples passed = 864\n",
      "TODO implement min/max elevation cutoffs\n"
     ]
    },
    {
     "name": "stderr",
     "output_type": "stream",
     "text": [
      "/Users/Simon/GIT/GPlatesReconstructionModel/gprm/GPlatesReconstructionModel.py:640: FutureWarning: The 'color' parameter has been deprecated since v0.8.0 and will be removed in v0.12.0. Please use 'fill' instead.\n",
      "  fig.plot(data = plot_file.name, pen=pen, color=color, **kwargs)\n",
      "/Users/Simon/GIT/GPlatesReconstructionModel/gprm/GPlatesReconstructionModel.py:875: FutureWarning: The 'color' parameter has been deprecated since v0.8.0 and will be removed in v0.12.0. Please use 'fill' instead.\n",
      "  fig.plot(data = plot_file.name, color=color, style='f{:f}p/{:f}p+r+t'.format(float(gap), float(size)), **kwargs)\n"
     ]
    },
    {
     "name": "stdout",
     "output_type": "stream",
     "text": [
      "Number of samples after basic filtering 3988\n",
      "Final number of samples passed = 905\n",
      "TODO implement min/max elevation cutoffs\n"
     ]
    },
    {
     "name": "stderr",
     "output_type": "stream",
     "text": [
      "/Users/Simon/GIT/GPlatesReconstructionModel/gprm/GPlatesReconstructionModel.py:640: FutureWarning: The 'color' parameter has been deprecated since v0.8.0 and will be removed in v0.12.0. Please use 'fill' instead.\n",
      "  fig.plot(data = plot_file.name, pen=pen, color=color, **kwargs)\n",
      "/Users/Simon/GIT/GPlatesReconstructionModel/gprm/GPlatesReconstructionModel.py:875: FutureWarning: The 'color' parameter has been deprecated since v0.8.0 and will be removed in v0.12.0. Please use 'fill' instead.\n",
      "  fig.plot(data = plot_file.name, color=color, style='f{:f}p/{:f}p+r+t'.format(float(gap), float(size)), **kwargs)\n"
     ]
    },
    {
     "name": "stdout",
     "output_type": "stream",
     "text": [
      "Number of samples after basic filtering 628\n",
      "Final number of samples passed = 399\n",
      "TODO implement min/max elevation cutoffs\n"
     ]
    },
    {
     "name": "stderr",
     "output_type": "stream",
     "text": [
      "/Users/Simon/GIT/GPlatesReconstructionModel/gprm/GPlatesReconstructionModel.py:640: FutureWarning: The 'color' parameter has been deprecated since v0.8.0 and will be removed in v0.12.0. Please use 'fill' instead.\n",
      "  fig.plot(data = plot_file.name, pen=pen, color=color, **kwargs)\n",
      "/Users/Simon/GIT/GPlatesReconstructionModel/gprm/GPlatesReconstructionModel.py:875: FutureWarning: The 'color' parameter has been deprecated since v0.8.0 and will be removed in v0.12.0. Please use 'fill' instead.\n",
      "  fig.plot(data = plot_file.name, color=color, style='f{:f}p/{:f}p+r+t'.format(float(gap), float(size)), **kwargs)\n"
     ]
    },
    {
     "name": "stdout",
     "output_type": "stream",
     "text": [
      "Number of samples after basic filtering 509\n",
      "Final number of samples passed = 224\n",
      "TODO implement min/max elevation cutoffs\n"
     ]
    },
    {
     "name": "stderr",
     "output_type": "stream",
     "text": [
      "/Users/Simon/GIT/GPlatesReconstructionModel/gprm/GPlatesReconstructionModel.py:640: FutureWarning: The 'color' parameter has been deprecated since v0.8.0 and will be removed in v0.12.0. Please use 'fill' instead.\n",
      "  fig.plot(data = plot_file.name, pen=pen, color=color, **kwargs)\n",
      "/Users/Simon/GIT/GPlatesReconstructionModel/gprm/GPlatesReconstructionModel.py:875: FutureWarning: The 'color' parameter has been deprecated since v0.8.0 and will be removed in v0.12.0. Please use 'fill' instead.\n",
      "  fig.plot(data = plot_file.name, color=color, style='f{:f}p/{:f}p+r+t'.format(float(gap), float(size)), **kwargs)\n"
     ]
    },
    {
     "name": "stdout",
     "output_type": "stream",
     "text": [
      "Number of samples after basic filtering 219\n",
      "Final number of samples passed = 152\n",
      "TODO implement min/max elevation cutoffs\n"
     ]
    },
    {
     "name": "stderr",
     "output_type": "stream",
     "text": [
      "/Users/Simon/GIT/GPlatesReconstructionModel/gprm/GPlatesReconstructionModel.py:640: FutureWarning: The 'color' parameter has been deprecated since v0.8.0 and will be removed in v0.12.0. Please use 'fill' instead.\n",
      "  fig.plot(data = plot_file.name, pen=pen, color=color, **kwargs)\n",
      "/Users/Simon/GIT/GPlatesReconstructionModel/gprm/GPlatesReconstructionModel.py:875: FutureWarning: The 'color' parameter has been deprecated since v0.8.0 and will be removed in v0.12.0. Please use 'fill' instead.\n",
      "  fig.plot(data = plot_file.name, color=color, style='f{:f}p/{:f}p+r+t'.format(float(gap), float(size)), **kwargs)\n"
     ]
    },
    {
     "name": "stdout",
     "output_type": "stream",
     "text": [
      "Number of samples after basic filtering 803\n",
      "Final number of samples passed = 610\n",
      "TODO implement min/max elevation cutoffs\n"
     ]
    },
    {
     "name": "stderr",
     "output_type": "stream",
     "text": [
      "/Users/Simon/GIT/GPlatesReconstructionModel/gprm/GPlatesReconstructionModel.py:640: FutureWarning: The 'color' parameter has been deprecated since v0.8.0 and will be removed in v0.12.0. Please use 'fill' instead.\n",
      "  fig.plot(data = plot_file.name, pen=pen, color=color, **kwargs)\n",
      "/Users/Simon/GIT/GPlatesReconstructionModel/gprm/GPlatesReconstructionModel.py:875: FutureWarning: The 'color' parameter has been deprecated since v0.8.0 and will be removed in v0.12.0. Please use 'fill' instead.\n",
      "  fig.plot(data = plot_file.name, color=color, style='f{:f}p/{:f}p+r+t'.format(float(gap), float(size)), **kwargs)\n"
     ]
    },
    {
     "name": "stdout",
     "output_type": "stream",
     "text": [
      "Number of samples after basic filtering 233\n",
      "Final number of samples passed = 144\n",
      "TODO implement min/max elevation cutoffs\n"
     ]
    },
    {
     "name": "stderr",
     "output_type": "stream",
     "text": [
      "/Users/Simon/GIT/GPlatesReconstructionModel/gprm/GPlatesReconstructionModel.py:640: FutureWarning: The 'color' parameter has been deprecated since v0.8.0 and will be removed in v0.12.0. Please use 'fill' instead.\n",
      "  fig.plot(data = plot_file.name, pen=pen, color=color, **kwargs)\n",
      "/Users/Simon/GIT/GPlatesReconstructionModel/gprm/GPlatesReconstructionModel.py:875: FutureWarning: The 'color' parameter has been deprecated since v0.8.0 and will be removed in v0.12.0. Please use 'fill' instead.\n",
      "  fig.plot(data = plot_file.name, color=color, style='f{:f}p/{:f}p+r+t'.format(float(gap), float(size)), **kwargs)\n"
     ]
    },
    {
     "name": "stdout",
     "output_type": "stream",
     "text": [
      "Number of samples after basic filtering 84\n",
      "Final number of samples passed = 70\n",
      "TODO implement min/max elevation cutoffs\n"
     ]
    },
    {
     "name": "stderr",
     "output_type": "stream",
     "text": [
      "/Users/Simon/GIT/GPlatesReconstructionModel/gprm/GPlatesReconstructionModel.py:640: FutureWarning: The 'color' parameter has been deprecated since v0.8.0 and will be removed in v0.12.0. Please use 'fill' instead.\n",
      "  fig.plot(data = plot_file.name, pen=pen, color=color, **kwargs)\n",
      "/Users/Simon/GIT/GPlatesReconstructionModel/gprm/GPlatesReconstructionModel.py:875: FutureWarning: The 'color' parameter has been deprecated since v0.8.0 and will be removed in v0.12.0. Please use 'fill' instead.\n",
      "  fig.plot(data = plot_file.name, color=color, style='f{:f}p/{:f}p+r+t'.format(float(gap), float(size)), **kwargs)\n"
     ]
    },
    {
     "name": "stdout",
     "output_type": "stream",
     "text": [
      "Number of samples after basic filtering 79\n",
      "Final number of samples passed = 72\n",
      "TODO implement min/max elevation cutoffs\n"
     ]
    },
    {
     "name": "stderr",
     "output_type": "stream",
     "text": [
      "/Users/Simon/GIT/GPlatesReconstructionModel/gprm/GPlatesReconstructionModel.py:640: FutureWarning: The 'color' parameter has been deprecated since v0.8.0 and will be removed in v0.12.0. Please use 'fill' instead.\n",
      "  fig.plot(data = plot_file.name, pen=pen, color=color, **kwargs)\n",
      "/Users/Simon/GIT/GPlatesReconstructionModel/gprm/GPlatesReconstructionModel.py:875: FutureWarning: The 'color' parameter has been deprecated since v0.8.0 and will be removed in v0.12.0. Please use 'fill' instead.\n",
      "  fig.plot(data = plot_file.name, color=color, style='f{:f}p/{:f}p+r+t'.format(float(gap), float(size)), **kwargs)\n"
     ]
    },
    {
     "name": "stdout",
     "output_type": "stream",
     "text": [
      "Number of samples after basic filtering 20\n",
      "Final number of samples passed = 10\n",
      "TODO implement min/max elevation cutoffs\n"
     ]
    },
    {
     "name": "stderr",
     "output_type": "stream",
     "text": [
      "/Users/Simon/GIT/GPlatesReconstructionModel/gprm/GPlatesReconstructionModel.py:640: FutureWarning: The 'color' parameter has been deprecated since v0.8.0 and will be removed in v0.12.0. Please use 'fill' instead.\n",
      "  fig.plot(data = plot_file.name, pen=pen, color=color, **kwargs)\n",
      "/Users/Simon/GIT/GPlatesReconstructionModel/gprm/GPlatesReconstructionModel.py:875: FutureWarning: The 'color' parameter has been deprecated since v0.8.0 and will be removed in v0.12.0. Please use 'fill' instead.\n",
      "  fig.plot(data = plot_file.name, color=color, style='f{:f}p/{:f}p+r+t'.format(float(gap), float(size)), **kwargs)\n"
     ]
    },
    {
     "name": "stdout",
     "output_type": "stream",
     "text": [
      "Number of samples after basic filtering 80\n",
      "Final number of samples passed = 33\n",
      "TODO implement min/max elevation cutoffs\n"
     ]
    },
    {
     "name": "stderr",
     "output_type": "stream",
     "text": [
      "/Users/Simon/GIT/GPlatesReconstructionModel/gprm/GPlatesReconstructionModel.py:640: FutureWarning: The 'color' parameter has been deprecated since v0.8.0 and will be removed in v0.12.0. Please use 'fill' instead.\n",
      "  fig.plot(data = plot_file.name, pen=pen, color=color, **kwargs)\n",
      "/Users/Simon/GIT/GPlatesReconstructionModel/gprm/GPlatesReconstructionModel.py:875: FutureWarning: The 'color' parameter has been deprecated since v0.8.0 and will be removed in v0.12.0. Please use 'fill' instead.\n",
      "  fig.plot(data = plot_file.name, color=color, style='f{:f}p/{:f}p+r+t'.format(float(gap), float(size)), **kwargs)\n"
     ]
    },
    {
     "name": "stdout",
     "output_type": "stream",
     "text": [
      "Number of samples after basic filtering 112\n",
      "Final number of samples passed = 53\n",
      "TODO implement min/max elevation cutoffs\n"
     ]
    },
    {
     "name": "stderr",
     "output_type": "stream",
     "text": [
      "/Users/Simon/GIT/GPlatesReconstructionModel/gprm/GPlatesReconstructionModel.py:640: FutureWarning: The 'color' parameter has been deprecated since v0.8.0 and will be removed in v0.12.0. Please use 'fill' instead.\n",
      "  fig.plot(data = plot_file.name, pen=pen, color=color, **kwargs)\n",
      "/Users/Simon/GIT/GPlatesReconstructionModel/gprm/GPlatesReconstructionModel.py:875: FutureWarning: The 'color' parameter has been deprecated since v0.8.0 and will be removed in v0.12.0. Please use 'fill' instead.\n",
      "  fig.plot(data = plot_file.name, color=color, style='f{:f}p/{:f}p+r+t'.format(float(gap), float(size)), **kwargs)\n"
     ]
    },
    {
     "name": "stdout",
     "output_type": "stream",
     "text": [
      "Number of samples after basic filtering 139\n",
      "Final number of samples passed = 42\n",
      "TODO implement min/max elevation cutoffs\n"
     ]
    },
    {
     "name": "stderr",
     "output_type": "stream",
     "text": [
      "/Users/Simon/GIT/GPlatesReconstructionModel/gprm/GPlatesReconstructionModel.py:640: FutureWarning: The 'color' parameter has been deprecated since v0.8.0 and will be removed in v0.12.0. Please use 'fill' instead.\n",
      "  fig.plot(data = plot_file.name, pen=pen, color=color, **kwargs)\n",
      "/Users/Simon/GIT/GPlatesReconstructionModel/gprm/GPlatesReconstructionModel.py:875: FutureWarning: The 'color' parameter has been deprecated since v0.8.0 and will be removed in v0.12.0. Please use 'fill' instead.\n",
      "  fig.plot(data = plot_file.name, color=color, style='f{:f}p/{:f}p+r+t'.format(float(gap), float(size)), **kwargs)\n"
     ]
    },
    {
     "name": "stdout",
     "output_type": "stream",
     "text": [
      "Number of samples after basic filtering 134\n",
      "Final number of samples passed = 108\n",
      "TODO implement min/max elevation cutoffs\n"
     ]
    },
    {
     "name": "stderr",
     "output_type": "stream",
     "text": [
      "/Users/Simon/GIT/GPlatesReconstructionModel/gprm/GPlatesReconstructionModel.py:640: FutureWarning: The 'color' parameter has been deprecated since v0.8.0 and will be removed in v0.12.0. Please use 'fill' instead.\n",
      "  fig.plot(data = plot_file.name, pen=pen, color=color, **kwargs)\n",
      "/Users/Simon/GIT/GPlatesReconstructionModel/gprm/GPlatesReconstructionModel.py:875: FutureWarning: The 'color' parameter has been deprecated since v0.8.0 and will be removed in v0.12.0. Please use 'fill' instead.\n",
      "  fig.plot(data = plot_file.name, color=color, style='f{:f}p/{:f}p+r+t'.format(float(gap), float(size)), **kwargs)\n"
     ]
    },
    {
     "name": "stdout",
     "output_type": "stream",
     "text": [
      "Number of samples after basic filtering 426\n",
      "Final number of samples passed = 419\n",
      "TODO implement min/max elevation cutoffs\n"
     ]
    },
    {
     "name": "stderr",
     "output_type": "stream",
     "text": [
      "/Users/Simon/GIT/GPlatesReconstructionModel/gprm/GPlatesReconstructionModel.py:640: FutureWarning: The 'color' parameter has been deprecated since v0.8.0 and will be removed in v0.12.0. Please use 'fill' instead.\n",
      "  fig.plot(data = plot_file.name, pen=pen, color=color, **kwargs)\n",
      "/Users/Simon/GIT/GPlatesReconstructionModel/gprm/GPlatesReconstructionModel.py:875: FutureWarning: The 'color' parameter has been deprecated since v0.8.0 and will be removed in v0.12.0. Please use 'fill' instead.\n",
      "  fig.plot(data = plot_file.name, color=color, style='f{:f}p/{:f}p+r+t'.format(float(gap), float(size)), **kwargs)\n"
     ]
    },
    {
     "name": "stdout",
     "output_type": "stream",
     "text": [
      "Number of samples after basic filtering 233\n",
      "Final number of samples passed = 159\n",
      "TODO implement min/max elevation cutoffs\n"
     ]
    },
    {
     "name": "stderr",
     "output_type": "stream",
     "text": [
      "/Users/Simon/GIT/GPlatesReconstructionModel/gprm/GPlatesReconstructionModel.py:640: FutureWarning: The 'color' parameter has been deprecated since v0.8.0 and will be removed in v0.12.0. Please use 'fill' instead.\n",
      "  fig.plot(data = plot_file.name, pen=pen, color=color, **kwargs)\n",
      "/Users/Simon/GIT/GPlatesReconstructionModel/gprm/GPlatesReconstructionModel.py:875: FutureWarning: The 'color' parameter has been deprecated since v0.8.0 and will be removed in v0.12.0. Please use 'fill' instead.\n",
      "  fig.plot(data = plot_file.name, color=color, style='f{:f}p/{:f}p+r+t'.format(float(gap), float(size)), **kwargs)\n"
     ]
    },
    {
     "name": "stdout",
     "output_type": "stream",
     "text": [
      "Number of samples after basic filtering 213\n",
      "Final number of samples passed = 185\n",
      "TODO implement min/max elevation cutoffs\n"
     ]
    },
    {
     "name": "stderr",
     "output_type": "stream",
     "text": [
      "/Users/Simon/GIT/GPlatesReconstructionModel/gprm/GPlatesReconstructionModel.py:640: FutureWarning: The 'color' parameter has been deprecated since v0.8.0 and will be removed in v0.12.0. Please use 'fill' instead.\n",
      "  fig.plot(data = plot_file.name, pen=pen, color=color, **kwargs)\n",
      "/Users/Simon/GIT/GPlatesReconstructionModel/gprm/GPlatesReconstructionModel.py:875: FutureWarning: The 'color' parameter has been deprecated since v0.8.0 and will be removed in v0.12.0. Please use 'fill' instead.\n",
      "  fig.plot(data = plot_file.name, color=color, style='f{:f}p/{:f}p+r+t'.format(float(gap), float(size)), **kwargs)\n"
     ]
    },
    {
     "name": "stdout",
     "output_type": "stream",
     "text": [
      "Number of samples after basic filtering 192\n",
      "Final number of samples passed = 183\n",
      "TODO implement min/max elevation cutoffs\n"
     ]
    },
    {
     "name": "stderr",
     "output_type": "stream",
     "text": [
      "/Users/Simon/GIT/GPlatesReconstructionModel/gprm/GPlatesReconstructionModel.py:640: FutureWarning: The 'color' parameter has been deprecated since v0.8.0 and will be removed in v0.12.0. Please use 'fill' instead.\n",
      "  fig.plot(data = plot_file.name, pen=pen, color=color, **kwargs)\n",
      "/Users/Simon/GIT/GPlatesReconstructionModel/gprm/GPlatesReconstructionModel.py:875: FutureWarning: The 'color' parameter has been deprecated since v0.8.0 and will be removed in v0.12.0. Please use 'fill' instead.\n",
      "  fig.plot(data = plot_file.name, color=color, style='f{:f}p/{:f}p+r+t'.format(float(gap), float(size)), **kwargs)\n"
     ]
    },
    {
     "name": "stdout",
     "output_type": "stream",
     "text": [
      "Number of samples after basic filtering 119\n",
      "Final number of samples passed = 115\n",
      "TODO implement min/max elevation cutoffs\n"
     ]
    },
    {
     "name": "stderr",
     "output_type": "stream",
     "text": [
      "/Users/Simon/GIT/GPlatesReconstructionModel/gprm/GPlatesReconstructionModel.py:640: FutureWarning: The 'color' parameter has been deprecated since v0.8.0 and will be removed in v0.12.0. Please use 'fill' instead.\n",
      "  fig.plot(data = plot_file.name, pen=pen, color=color, **kwargs)\n",
      "/Users/Simon/GIT/GPlatesReconstructionModel/gprm/GPlatesReconstructionModel.py:875: FutureWarning: The 'color' parameter has been deprecated since v0.8.0 and will be removed in v0.12.0. Please use 'fill' instead.\n",
      "  fig.plot(data = plot_file.name, color=color, style='f{:f}p/{:f}p+r+t'.format(float(gap), float(size)), **kwargs)\n"
     ]
    },
    {
     "name": "stdout",
     "output_type": "stream",
     "text": [
      "Number of samples after basic filtering 72\n",
      "Final number of samples passed = 64\n",
      "TODO implement min/max elevation cutoffs\n"
     ]
    },
    {
     "name": "stderr",
     "output_type": "stream",
     "text": [
      "/Users/Simon/GIT/GPlatesReconstructionModel/gprm/GPlatesReconstructionModel.py:640: FutureWarning: The 'color' parameter has been deprecated since v0.8.0 and will be removed in v0.12.0. Please use 'fill' instead.\n",
      "  fig.plot(data = plot_file.name, pen=pen, color=color, **kwargs)\n",
      "/Users/Simon/GIT/GPlatesReconstructionModel/gprm/GPlatesReconstructionModel.py:875: FutureWarning: The 'color' parameter has been deprecated since v0.8.0 and will be removed in v0.12.0. Please use 'fill' instead.\n",
      "  fig.plot(data = plot_file.name, color=color, style='f{:f}p/{:f}p+r+t'.format(float(gap), float(size)), **kwargs)\n"
     ]
    },
    {
     "name": "stdout",
     "output_type": "stream",
     "text": [
      "Number of samples after basic filtering 99\n",
      "Final number of samples passed = 74\n",
      "TODO implement min/max elevation cutoffs\n"
     ]
    },
    {
     "name": "stderr",
     "output_type": "stream",
     "text": [
      "/Users/Simon/GIT/GPlatesReconstructionModel/gprm/GPlatesReconstructionModel.py:640: FutureWarning: The 'color' parameter has been deprecated since v0.8.0 and will be removed in v0.12.0. Please use 'fill' instead.\n",
      "  fig.plot(data = plot_file.name, pen=pen, color=color, **kwargs)\n",
      "/Users/Simon/GIT/GPlatesReconstructionModel/gprm/GPlatesReconstructionModel.py:875: FutureWarning: The 'color' parameter has been deprecated since v0.8.0 and will be removed in v0.12.0. Please use 'fill' instead.\n",
      "  fig.plot(data = plot_file.name, color=color, style='f{:f}p/{:f}p+r+t'.format(float(gap), float(size)), **kwargs)\n"
     ]
    },
    {
     "name": "stdout",
     "output_type": "stream",
     "text": [
      "Number of samples after basic filtering 133\n",
      "Final number of samples passed = 106\n",
      "TODO implement min/max elevation cutoffs\n"
     ]
    },
    {
     "name": "stderr",
     "output_type": "stream",
     "text": [
      "/Users/Simon/GIT/GPlatesReconstructionModel/gprm/GPlatesReconstructionModel.py:640: FutureWarning: The 'color' parameter has been deprecated since v0.8.0 and will be removed in v0.12.0. Please use 'fill' instead.\n",
      "  fig.plot(data = plot_file.name, pen=pen, color=color, **kwargs)\n",
      "/Users/Simon/GIT/GPlatesReconstructionModel/gprm/GPlatesReconstructionModel.py:875: FutureWarning: The 'color' parameter has been deprecated since v0.8.0 and will be removed in v0.12.0. Please use 'fill' instead.\n",
      "  fig.plot(data = plot_file.name, color=color, style='f{:f}p/{:f}p+r+t'.format(float(gap), float(size)), **kwargs)\n"
     ]
    },
    {
     "name": "stdout",
     "output_type": "stream",
     "text": [
      "Number of samples after basic filtering 58\n",
      "Final number of samples passed = 56\n",
      "TODO implement min/max elevation cutoffs\n"
     ]
    },
    {
     "name": "stderr",
     "output_type": "stream",
     "text": [
      "/Users/Simon/GIT/GPlatesReconstructionModel/gprm/GPlatesReconstructionModel.py:640: FutureWarning: The 'color' parameter has been deprecated since v0.8.0 and will be removed in v0.12.0. Please use 'fill' instead.\n",
      "  fig.plot(data = plot_file.name, pen=pen, color=color, **kwargs)\n",
      "/Users/Simon/GIT/GPlatesReconstructionModel/gprm/GPlatesReconstructionModel.py:875: FutureWarning: The 'color' parameter has been deprecated since v0.8.0 and will be removed in v0.12.0. Please use 'fill' instead.\n",
      "  fig.plot(data = plot_file.name, color=color, style='f{:f}p/{:f}p+r+t'.format(float(gap), float(size)), **kwargs)\n"
     ]
    },
    {
     "name": "stdout",
     "output_type": "stream",
     "text": [
      "Number of samples after basic filtering 43\n",
      "Final number of samples passed = 38\n",
      "TODO implement min/max elevation cutoffs\n"
     ]
    },
    {
     "name": "stderr",
     "output_type": "stream",
     "text": [
      "/Users/Simon/GIT/GPlatesReconstructionModel/gprm/GPlatesReconstructionModel.py:640: FutureWarning: The 'color' parameter has been deprecated since v0.8.0 and will be removed in v0.12.0. Please use 'fill' instead.\n",
      "  fig.plot(data = plot_file.name, pen=pen, color=color, **kwargs)\n",
      "/Users/Simon/GIT/GPlatesReconstructionModel/gprm/GPlatesReconstructionModel.py:875: FutureWarning: The 'color' parameter has been deprecated since v0.8.0 and will be removed in v0.12.0. Please use 'fill' instead.\n",
      "  fig.plot(data = plot_file.name, color=color, style='f{:f}p/{:f}p+r+t'.format(float(gap), float(size)), **kwargs)\n"
     ]
    },
    {
     "name": "stdout",
     "output_type": "stream",
     "text": [
      "Number of samples after basic filtering 102\n",
      "Final number of samples passed = 89\n",
      "TODO implement min/max elevation cutoffs\n"
     ]
    },
    {
     "name": "stderr",
     "output_type": "stream",
     "text": [
      "/Users/Simon/GIT/GPlatesReconstructionModel/gprm/GPlatesReconstructionModel.py:640: FutureWarning: The 'color' parameter has been deprecated since v0.8.0 and will be removed in v0.12.0. Please use 'fill' instead.\n",
      "  fig.plot(data = plot_file.name, pen=pen, color=color, **kwargs)\n",
      "/Users/Simon/GIT/GPlatesReconstructionModel/gprm/GPlatesReconstructionModel.py:875: FutureWarning: The 'color' parameter has been deprecated since v0.8.0 and will be removed in v0.12.0. Please use 'fill' instead.\n",
      "  fig.plot(data = plot_file.name, color=color, style='f{:f}p/{:f}p+r+t'.format(float(gap), float(size)), **kwargs)\n"
     ]
    },
    {
     "name": "stdout",
     "output_type": "stream",
     "text": [
      "Number of samples after basic filtering 210\n",
      "Final number of samples passed = 143\n",
      "TODO implement min/max elevation cutoffs\n"
     ]
    }
   ],
   "source": [
    "###########################################\n",
    "MODEL = PaleomapDictionary\n",
    "###########################################\n",
    "\n",
    "region = [-180, 180, -89, 89]\n",
    "#region = [-76, -66, -25, -12]\n",
    "projection=\"Q40c\"\n",
    "perspective = [210, 35]\n",
    "\n",
    "column_marker_size = '0.1c'\n",
    "###########################################\n",
    "\n",
    "\n",
    "\n",
    "time_bin_size = 20\n",
    "space_bin_size = 1.\n",
    "\n",
    "#calibration = 'Hu'\n",
    "#mohometer_selection = ['la_yb_elevation']\n",
    "\n",
    "calibration = 'luffi'\n",
    "mohometer_selection = 50\n",
    "\n",
    "anchor_plate_id = 0\n",
    "raster_anchor_plate_id = 0\n",
    "\n",
    "reconstruction_model = Reconstructions.fetch_Merdith2021()\n",
    "raster_sequence = None\n",
    "\n",
    "model_name = 'M2021'\n",
    "model_maximum_time = 1000\n",
    "\n",
    "\n",
    "if isinstance(mohometer_selection, list):\n",
    "    mohometer_description_string = '|'.join(mohometer_selection)\n",
    "else:\n",
    "    mohometer_description_string = str(mohometer_selection)\n",
    "\n",
    "    \n",
    "    \n",
    "for reconstruction_time in np.arange(0,model_maximum_time+time_bin_size,time_bin_size):\n",
    "    \n",
    "    fig = pygmt.Figure()\n",
    "    \n",
    "    fig.basemap(region=region, projection=projection, perspective=perspective, frame='afg')\n",
    "\n",
    "    reconstruction_model.polygon_snapshot('continents', reconstruction_time).plot(fig, pen=None, perspective=perspective)\n",
    "\n",
    "    reconstruction_model.plate_snapshot(reconstruction_time).plot_boundaries(fig, perspective=perspective)\n",
    "\n",
    "    binned_elevations = joymap.timeslice_plot(df, reconstruction_time,\n",
    "                                              time_bin_size, space_bin_size, \n",
    "                                              fig, reconstruction_model, raster_sequence, \n",
    "                                              anchor_plate_id=anchor_plate_id, raster_anchor_plate_id=raster_anchor_plate_id,\n",
    "                                              gc_interpolator_dict=gc_interpolator_dict, \n",
    "                                              calibration=calibration, mohometer_selection=mohometer_selection,\n",
    "                                              region=region, projection=projection, perspective=perspective, \n",
    "                                              column_marker_size=column_marker_size, \n",
    "                                              coastlines=False, volcanics=None, return_type='binned_elevations')\n",
    "    \n",
    "    #joymap.add_labels(fig, reconstruction_time, add_colorbar=True)\n",
    "    \n",
    "    fig.savefig('../images/sequence_{:s}/elevations_plus_volcanism_{:s}_{:s}_{:0.0f}Ma.png'.format(model_name,\n",
    "                                                                                                   calibration,\n",
    "                                                                                                   mohometer_description_string, \n",
    "                                                                                                   reconstruction_time))\n",
    "    #fig.show(width=1000)\n",
    "    \n",
    "    '''\n",
    "    fig = pygmt.Figure()\n",
    "\n",
    "    binned_residuals = joymap.timeslice_plot(df, reconstruction_time,\n",
    "                                             time_bin_size, space_bin_size, \n",
    "                                             fig, raster_sequence, reconstruction_model, \n",
    "                                             anchor_plate_id=anchor_plate_id, raster_anchor_plate_id=raster_anchor_plate_id,\n",
    "                                             gc_interpolator_dict=gc_interpolator_dict, \n",
    "                                             calibration=calibration, mohometer_selection=mohometer_selection,\n",
    "                                             region=region, projection=projection, perspective=perspective, \n",
    "                                             column_marker_size=column_marker_size,\n",
    "                                             volcanics=None, residuals=True, return_type='binned_residuals')\n",
    "    \n",
    "    joymap.add_labels(fig, reconstruction_time, add_colorbar=True, colorbar_title='Residual Elevation [m]')\n",
    "    \n",
    "    fig.savefig('../images/sequence_{:s}/elevation_residuals_{:s}_{:s}_{:0.0f}Ma.png'.format(MODEL['name'],\n",
    "                                                                                   calibration,\n",
    "                                                                                   mohometer_description_string, \n",
    "                                                                                   reconstruction_time))\n",
    "    #fig.show(width=1000)\n",
    "    \n",
    "    joymap.residuals_crossplot(binned_elevations, binned_residuals,\n",
    "                               fname='../images/sequence_{:s}/crossplot_{:s}_{:s}_{:0.1f}Ma.png'.format(MODEL['name'],\n",
    "                                                                                                        calibration,\n",
    "                                                                                                        mohometer_description_string, \n",
    "                                                                                                        reconstruction_time))\n",
    "    #break\n",
    "    '''\n",
    "    \n"
   ]
  },
  {
   "cell_type": "code",
   "execution_count": null,
   "id": "04072819-ea18-4976-8ede-da370a0f1538",
   "metadata": {},
   "outputs": [],
   "source": []
  }
 ],
 "metadata": {
  "kernelspec": {
   "display_name": "Python [conda env:pygmt9]",
   "language": "python",
   "name": "conda-env-pygmt9-py"
  },
  "language_info": {
   "codemirror_mode": {
    "name": "ipython",
    "version": 3
   },
   "file_extension": ".py",
   "mimetype": "text/x-python",
   "name": "python",
   "nbconvert_exporter": "python",
   "pygments_lexer": "ipython3",
   "version": "3.8.17"
  }
 },
 "nbformat": 4,
 "nbformat_minor": 5
}
