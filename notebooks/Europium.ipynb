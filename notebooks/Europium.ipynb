{
 "cells": [
  {
   "cell_type": "code",
   "execution_count": 1,
   "id": "cae4af04-cd0b-4ca8-83ed-f7041997d894",
   "metadata": {},
   "outputs": [],
   "source": [
    "import numpy as np\n",
    "import pandas as pd\n",
    "import matplotlib.pyplot as plt\n",
    "import pygplates\n",
    "import pygmt\n",
    "import seaborn as sns\n",
    "from pyrolite.geochem.norm import get_reference_composition\n",
    "\n",
    "%matplotlib inline\n",
    "%load_ext autoreload\n",
    "%autoreload 2\n",
    "\n",
    "f = get_reference_composition('Chondrite_SM89')\n"
   ]
  },
  {
   "cell_type": "code",
   "execution_count": 2,
   "id": "c38845ea-491d-4566-ac41-3701e680ae34",
   "metadata": {},
   "outputs": [],
   "source": [
    "df_Tang = pd.read_excel('../datafiles/abf1876-tang-sm-database-s1.xlsx', sheet_name='Filtered')\n",
    "\n",
    "df_Tang.Continent.unique()\n",
    "\n",
    "df_Tang = df_Tang[(df_Tang.Continent.str.contains('S America')) & (df_Tang.Age<500)]\n"
   ]
  },
  {
   "cell_type": "code",
   "execution_count": 25,
   "id": "9af59732-ee86-44d4-9bf0-d51d71d5cf20",
   "metadata": {},
   "outputs": [
    {
     "data": {
      "text/plain": [
       "array(['Analyzed spot', 'Rock type', 'Age (Ma) ±1s', 'Unnamed: 3',\n",
       "       'Unnamed: 4', 'Hf (ppm)', 'La (ppm)', 'Ce (ppm)', 'Nd (ppm)',\n",
       "       'Sm (ppm)', 'Eu (ppm)', 'Gd (ppm)', 'Dy (ppm)', 'Er (ppm)',\n",
       "       'Yb (ppm)', 'EuN /EuN*', 'CeN /CeN*', 'Y (ppm)', 'Fe (ppm)',\n",
       "       '48Ti (ppm)', '49Ti (ppm)'], dtype=object)"
      ]
     },
     "execution_count": 25,
     "metadata": {},
     "output_type": "execute_result"
    }
   ],
   "source": [
    "dfLee41 = pd.read_excel('../datafiles/zircons//Lee/Appendix_Tables.edt.xls', sheet_name='Appendix 4', skiprows=1)\n",
    "dfLee42 = pd.read_excel('../datafiles/zircons//Lee/Appendix_Tables.edt.xls', sheet_name='Appendix 4_2', skiprows=1)\n",
    "\n",
    "dfLee41.columns.values"
   ]
  },
  {
   "cell_type": "code",
   "execution_count": 10,
   "id": "7b472666-2775-4905-916f-982795a9b670",
   "metadata": {},
   "outputs": [],
   "source": [
    "dfN = pd.read_excel('../datafiles/zircons//Nathwani/410_2020_1766_MOESM2_ESM.xlsx', \n",
    "                    sheet_name='3. Zircon U-Pb and Traces', skiprows=2)\n",
    "\n",
    "f = get_reference_composition('Chondrite_SM89')\n",
    "\n",
    "euN = dfN['Eu151_ppm'] / f.comp['Eu'].value\n",
    "smN = dfN['Sm147_ppm'] / f.comp['Sm'].value\n",
    "gdN = dfN['Gd157_ppm'] / f.comp['Gd'].value\n",
    "\n",
    "dfN['eu_eu_star'] = euN / np.sqrt(smN * gdN)\n",
    "\n"
   ]
  },
  {
   "cell_type": "code",
   "execution_count": 5,
   "id": "fb47229d-b3ac-412a-b2c8-6cc688ddfda6",
   "metadata": {},
   "outputs": [],
   "source": [
    "dfJ = pd.read_excel('../datafiles/zircons//Jara/ScienceDirect_files_17Dec2021_06-35-22.334/1-s2.0-S1342937X2100023X-mmc2.xlsx', \n",
    "                    skiprows=3, skipfooter=6, header=[0, 1])\n",
    "\n",
    "dfJ.replace({'BDL': np.nan}, inplace=True)\n",
    "\n",
    "dfJ['PrefAge'] = dfJ['Pref. Age']['(Ma)']\n",
    "\n",
    "euN = dfJ['Eu153']['Mean (ppm)'] / f.comp['Eu'].value\n",
    "smN = dfJ['Sm147']['Mean (ppm)'] / f.comp['Sm'].value\n",
    "gdN = dfJ['Gd157']['Mean (ppm)'] / f.comp['Gd'].value\n",
    "\n",
    "dfJ['eu_eu_star'] = euN / np.sqrt(smN * gdN)\n",
    "dfJ\n"
   ]
  },
  {
   "cell_type": "code",
   "execution_count": 6,
   "id": "d93ef5fc-5a52-4ff4-b1ec-f4f610fbc18b",
   "metadata": {},
   "outputs": [
    {
     "name": "stderr",
     "output_type": "stream",
     "text": [
      "/opt/anaconda3/envs/pygmt4/lib/python3.8/site-packages/openpyxl/worksheet/_reader.py:312: UserWarning: Unknown extension is not supported and will be removed\n",
      "  warn(msg)\n",
      "/opt/anaconda3/envs/pygmt4/lib/python3.8/site-packages/pandas/core/indexing.py:1732: SettingWithCopyWarning: \n",
      "A value is trying to be set on a copy of a slice from a DataFrame\n",
      "\n",
      "See the caveats in the documentation: https://pandas.pydata.org/pandas-docs/stable/user_guide/indexing.html#returning-a-view-versus-a-copy\n",
      "  self._setitem_single_block(indexer, value, name)\n"
     ]
    }
   ],
   "source": [
    "dfCM = pd.read_excel('../datafiles/zircons//ChelleMichou/1-s2.0-S0024493714001005-mmc2.xlsx', \n",
    "                         sheet_name='Trace elements')\n",
    "\n",
    "dfCM.dropna(inplace=True)\n",
    "dfCM['age_ma'] = np.nan\n",
    "\n",
    "dfCM['age_ma'].iloc[dfCM['Lazer spot'].str.contains('CC055')] = 40.374\n",
    "dfCM['age_ma'].iloc[dfCM['Lazer spot'].str.contains('CC038')] = 40.211\n",
    "dfCM['age_ma'].iloc[dfCM['Lazer spot'].str.contains('CC022')] = 35.633\n",
    "dfCM['age_ma'].iloc[dfCM['Lazer spot'].str.contains('CC051')] = 35.597\n",
    "dfCM['age_ma'].iloc[dfCM['Lazer spot'].str.contains('CC056')] = 35.20\n",
    "\n",
    "euN = dfCM['Eu (ppm)'] / f.comp['Eu'].value\n",
    "smN = dfCM['Sm (ppm)'] / f.comp['Sm'].value\n",
    "gdN = dfCM['Gd (ppm)'] / f.comp['Gd'].value\n",
    "\n",
    "dfCM['eu_eu_star'] = euN / np.sqrt(smN * gdN)\n"
   ]
  },
  {
   "cell_type": "code",
   "execution_count": 7,
   "id": "be350b6f-c12b-4a00-8025-0911498e8a94",
   "metadata": {},
   "outputs": [],
   "source": [
    "dfMunoz1 = pd.read_excel('../datafiles/zircons//Munoz/MunozZirconData.xlsx', sheet_name='Sheet1')\n",
    "dfMunoz2 = pd.read_excel('../datafiles/zircons//Munoz/MunozZirconData.xlsx', sheet_name='Sheet2')\n",
    "\n",
    "dfMunoz1['Sample'] = dfMunoz1.Sample.ffill()\n",
    "dfMunoz2['Sample'] = dfMunoz2.Sample.ffill()\n",
    "\n",
    "dfMunoz1.dropna(subset=['Eu'], inplace=True)\n",
    "dfMunoz2.dropna(subset=['Spot'], inplace=True)\n",
    "\n",
    "dfMunoz1.replace({'·': '.', '\\xa0': ''}, regex=True, inplace=True)\n",
    "dfMunoz2.replace({'·': '.', '\\xa0': ''}, regex=True, inplace=True)\n",
    "\n",
    "\n",
    "age_list = []\n",
    "for i,row in dfMunoz1.iterrows():\n",
    "    age = dfMunoz2[(dfMunoz2.Sample==row.Sample) & (dfMunoz2.Spot.astype(float)==row.Spot)]['Age']\n",
    "    age_list.append(float(age.values[0]))\n",
    "    th_u_list.append(float(dfMunoz2[(dfMunoz2.Sample==row.Sample) & (dfMunoz2.Spot.astype(float)==row.Spot)]['Th/U']))\n",
    "\n",
    "dfMunoz1['age_ma'] = age_list\n"
   ]
  },
  {
   "cell_type": "code",
   "execution_count": 14,
   "id": "c03df1f1-4e70-49a2-a50d-2ba76573ddd4",
   "metadata": {},
   "outputs": [
    {
     "data": {
      "text/plain": [
       "<matplotlib.legend.Legend at 0x7fe649a35eb0>"
      ]
     },
     "execution_count": 14,
     "metadata": {},
     "output_type": "execute_result"
    },
    {
     "data": {
      "image/png": "[encoded data removed]",
      "text/plain": [
       "<Figure size 1008x360 with 1 Axes>"
      ]
     },
     "metadata": {
      "needs_background": "light"
     },
     "output_type": "display_data"
    }
   ],
   "source": [
    "plt.figure(figsize=(14,5))\n",
    "plt.plot(df_Tang.Age, df_Tang['Eu/Eu*zr'], 'ko', label='Tang++2021')\n",
    "plt.plot(dfLee41['Age (Ma) ±1s'], dfLee41['EuN /EuN*'], 'o', alpha=0.5, label='Lee++')\n",
    "plt.plot(dfLee42['Age (Ma) ± 1s'], dfLee42['EuN /EuN*'], 'o', alpha=0.5, label='Lee++')\n",
    "plt.plot(dfN['Weighted Mean Age (Ma)'], dfN['eu_eu_star'], 'o', alpha=0.7, label='Nathwani++')\n",
    "plt.plot(dfJ['PrefAge'], dfJ['eu_eu_star'], 'o', alpha=0.3, label='Jara++')\n",
    "plt.plot(dfCM['age_ma'], dfCM['eu_eu_star'], 'o', alpha=0.3, label='ChelleMichou++')\n",
    "plt.plot(dfMunoz1['age_ma'], dfMunoz1['EuN/ EuN*'].astype(float), 'o', alpha=0.3, label='Munoz++')\n",
    "#plt.xlim(30,70)\n",
    "plt.xlim(0,400)\n",
    "plt.ylim(0,0.9)\n",
    "plt.legend()\n"
   ]
  },
  {
   "cell_type": "code",
   "execution_count": null,
   "id": "95ad4916-d417-43cf-972f-8fe7fd1211e6",
   "metadata": {},
   "outputs": [],
   "source": [
    "ages_cat = []\n",
    "eu_cat = []\n",
    "ages_list = [subset.Age.tolist(), \n",
    "            dfLee41['Age (Ma) ±1s'].tolist(), \n",
    "            dfLee42['Age (Ma) ± 1s'].tolist(), \n",
    "            dfN['Weighted Mean Age (Ma)'].tolist(),\n",
    "            PrefAge.tolist(),\n",
    "            dfCM['age_ma'].tolist(),\n",
    "            dfMunoz1['age_ma'].tolist()]\n",
    "\n",
    "eu_list = [subset['Eu/Eu*zr'],\n",
    "           dfLee41['EuN /EuN*'],\n",
    "           dfLee42['EuN /EuN*'],\n",
    "           eu_eu_star,\n",
    "           eu_eu_starJ,\n",
    "           eu_eu_starCM,\n",
    "           dfMunoz1['EuN/ EuN*'].astype(float)]\n",
    "\n",
    "for ages,eu in zip(ages_list,eu_list):\n",
    "    ages_cat.extend(ages)\n",
    "    eu_cat.extend(eu)\n",
    "    \n",
    "dff = pd.DataFrame(data={'age': ages_cat,\n",
    "                         'eu_eu': eu_cat}).dropna()\n",
    "\n",
    "#dff\n",
    "\n",
    "dff['age_bin'] = np.round(dff['age']/10.)*10.\n",
    "dff['thickness'] = 84.2 * dff['eu_eu'] + 24.5\n",
    "\n",
    "dff = dff[dff['age_bin']<350.]\n",
    "\n",
    "plt.figure(figsize=(16,6))\n",
    "sns.boxenplot(x='age_bin', y='eu_eu', data=dff)\n",
    "plt.show()\n"
   ]
  },
  {
   "cell_type": "code",
   "execution_count": null,
   "id": "ffcc673f-b227-4245-aa9b-07055c4eb10d",
   "metadata": {},
   "outputs": [],
   "source": [
    "dfJ.columns\n",
    "\n",
    "#PrefAge = dfJ['Pref. Age']['(Ma)']\n",
    "\n",
    "Th_U = dfJ['Th232']['Mean (ppm)'] / dfJ['U238*']['Mean (ppm)']\n",
    "\n",
    "plt.figure(figsize=(16,6))\n",
    "#plt.plot(PrefAge, Th_U, '.')\n",
    "plt.plot(PrefAge, 1/dfJ['U/Th']['(#)'], '.')\n",
    "plt.ylim(0,2)\n",
    "plt.xlim(0,400)\n"
   ]
  },
  {
   "cell_type": "code",
   "execution_count": null,
   "id": "1a77d203-4280-48a2-bb8a-4127fe946778",
   "metadata": {},
   "outputs": [],
   "source": [
    "subset = df[df.Age<400.]\n",
    "subset['age_bin'] = np.round(subset['Age']/20.)*20.\n",
    "\n",
    "plt.figure(figsize=(16,16))\n",
    "sns.boxenplot(x='age_bin', y='Eu/Eu*zr', data=subset)\n",
    "#sns.scatterplot(x='age_bin', y='Eu/Eu*zr', data=subset, alpha=0.2)\n",
    "#plt.ylim(0,60)\n",
    "plt.show()"
   ]
  },
  {
   "cell_type": "code",
   "execution_count": null,
   "id": "970b233e-7cf8-4cfe-a1bb-2c5f161cf774",
   "metadata": {},
   "outputs": [],
   "source": [
    "age_max = 500.\n",
    "age_bin = 10\n",
    "\n",
    "#subset = df[(df.Continent.str.contains('Antarctica|Australia|S America')) & (df.Age<age_max)]\n",
    "subset = df[(df.Continent.str.contains('S America')) & (df.Age<age_max)]\n",
    "subset['age_bin'] = np.round(subset['Age']/age_bin)*age_bin\n",
    "\n",
    "plt.figure(figsize=(16,10))\n",
    "sns.boxplot(x='age_bin', y='Eu/Eu*zr', data=subset, hue='Continent', fliersize=0)\n",
    "#sns.stripplot(x=\"age_bin\", y=\"Eu/Eu*zr\", data=subset, hue='Continent', dodge=True, color='k')\n",
    "#sns.violinplot(x='age_bin', y='Eu/Eu*zr', data=subset, hue='Continent', split=True, bw=.5, inner=\"stick\")\n",
    "#sns.lineplot(x='age_bin', y='Eu/Eu*zr', data=subset, hue='Continent')\n",
    "\n",
    "#sns.scatterplot(x='age_bin', y='Eu/Eu*zr', data=subset, alpha=0.2)\n",
    "plt.ylim(0,1)\n",
    "plt.show()\n"
   ]
  },
  {
   "cell_type": "code",
   "execution_count": 21,
   "id": "afb563f3-d88a-4d57-8dda-630e934ad543",
   "metadata": {},
   "outputs": [
    {
     "data": {
      "text/plain": [
       "array(['Sample', 'Spot', 'Crystal', 'U', 'Th', 'Th/U', 'Age', '2σ'],\n",
       "      dtype=object)"
      ]
     },
     "execution_count": 21,
     "metadata": {},
     "output_type": "execute_result"
    }
   ],
   "source": [
    "#dfN.columns.values\n",
    "#dfMunoz2.columns.values\n"
   ]
  },
  {
   "cell_type": "code",
   "execution_count": 23,
   "id": "aeb0ed20-7d17-4d91-8734-3870cba827c5",
   "metadata": {},
   "outputs": [
    {
     "data": {
      "text/html": [
       "<div>\n",
       "<style scoped>\n",
       "    .dataframe tbody tr th:only-of-type {\n",
       "        vertical-align: middle;\n",
       "    }\n",
       "\n",
       "    .dataframe tbody tr th {\n",
       "        vertical-align: top;\n",
       "    }\n",
       "\n",
       "    .dataframe thead th {\n",
       "        text-align: right;\n",
       "    }\n",
       "</style>\n",
       "<table border=\"1\" class=\"dataframe\">\n",
       "  <thead>\n",
       "    <tr style=\"text-align: right;\">\n",
       "      <th></th>\n",
       "      <th>Sample</th>\n",
       "      <th>Spot</th>\n",
       "      <th>Crystal</th>\n",
       "      <th>U</th>\n",
       "      <th>Th</th>\n",
       "      <th>Th/U</th>\n",
       "      <th>Age</th>\n",
       "      <th>2σ</th>\n",
       "    </tr>\n",
       "  </thead>\n",
       "  <tbody>\n",
       "    <tr>\n",
       "      <th>2</th>\n",
       "      <td>A Porphyry, Sample TT150</td>\n",
       "      <td>1.1</td>\n",
       "      <td>r</td>\n",
       "      <td>62</td>\n",
       "      <td>48</td>\n",
       "      <td>0.78</td>\n",
       "      <td>6.6</td>\n",
       "      <td>0.8</td>\n",
       "    </tr>\n",
       "    <tr>\n",
       "      <th>3</th>\n",
       "      <td>A Porphyry, Sample TT150</td>\n",
       "      <td>3.1</td>\n",
       "      <td>r</td>\n",
       "      <td>76</td>\n",
       "      <td>62</td>\n",
       "      <td>0.82</td>\n",
       "      <td>6.8</td>\n",
       "      <td>0.6</td>\n",
       "    </tr>\n",
       "    <tr>\n",
       "      <th>4</th>\n",
       "      <td>A Porphyry, Sample TT150</td>\n",
       "      <td>4.1</td>\n",
       "      <td>r</td>\n",
       "      <td>73</td>\n",
       "      <td>60</td>\n",
       "      <td>0.82</td>\n",
       "      <td>6.4</td>\n",
       "      <td>0.6</td>\n",
       "    </tr>\n",
       "    <tr>\n",
       "      <th>5</th>\n",
       "      <td>A Porphyry, Sample TT150</td>\n",
       "      <td>5.2</td>\n",
       "      <td>r</td>\n",
       "      <td>64</td>\n",
       "      <td>52</td>\n",
       "      <td>0.81</td>\n",
       "      <td>5.7</td>\n",
       "      <td>0.8</td>\n",
       "    </tr>\n",
       "    <tr>\n",
       "      <th>6</th>\n",
       "      <td>A Porphyry, Sample TT150</td>\n",
       "      <td>6.1</td>\n",
       "      <td>r</td>\n",
       "      <td>542</td>\n",
       "      <td>920</td>\n",
       "      <td>1.70</td>\n",
       "      <td>6.5</td>\n",
       "      <td>0.2</td>\n",
       "    </tr>\n",
       "    <tr>\n",
       "      <th>...</th>\n",
       "      <td>...</td>\n",
       "      <td>...</td>\n",
       "      <td>...</td>\n",
       "      <td>...</td>\n",
       "      <td>...</td>\n",
       "      <td>...</td>\n",
       "      <td>...</td>\n",
       "      <td>...</td>\n",
       "    </tr>\n",
       "    <tr>\n",
       "      <th>68</th>\n",
       "      <td>Late Dacite Dike, Sample TT91</td>\n",
       "      <td>8.1</td>\n",
       "      <td>r</td>\n",
       "      <td>295</td>\n",
       "      <td>180</td>\n",
       "      <td>0.61</td>\n",
       "      <td>4.7</td>\n",
       "      <td>0.2</td>\n",
       "    </tr>\n",
       "    <tr>\n",
       "      <th>69</th>\n",
       "      <td>Late Dacite Dike, Sample TT91</td>\n",
       "      <td>10.1</td>\n",
       "      <td>r</td>\n",
       "      <td>356</td>\n",
       "      <td>280</td>\n",
       "      <td>0.79</td>\n",
       "      <td>4.7</td>\n",
       "      <td>0.2</td>\n",
       "    </tr>\n",
       "    <tr>\n",
       "      <th>70</th>\n",
       "      <td>Late Dacite Dike, Sample TT91</td>\n",
       "      <td>12.1</td>\n",
       "      <td>r</td>\n",
       "      <td>272</td>\n",
       "      <td>203</td>\n",
       "      <td>0.75</td>\n",
       "      <td>4.9</td>\n",
       "      <td>0.4</td>\n",
       "    </tr>\n",
       "    <tr>\n",
       "      <th>71</th>\n",
       "      <td>Late Dacite Dike, Sample TT91</td>\n",
       "      <td>15.1</td>\n",
       "      <td>r</td>\n",
       "      <td>263</td>\n",
       "      <td>177</td>\n",
       "      <td>0.67</td>\n",
       "      <td>4.8</td>\n",
       "      <td>0.4</td>\n",
       "    </tr>\n",
       "    <tr>\n",
       "      <th>72</th>\n",
       "      <td>Late Dacite Dike, Sample TT91</td>\n",
       "      <td>17.1</td>\n",
       "      <td>r</td>\n",
       "      <td>215</td>\n",
       "      <td>132</td>\n",
       "      <td>0.61</td>\n",
       "      <td>4.8</td>\n",
       "      <td>0.4</td>\n",
       "    </tr>\n",
       "  </tbody>\n",
       "</table>\n",
       "<p>66 rows × 8 columns</p>\n",
       "</div>"
      ],
      "text/plain": [
       "                           Sample  Spot Crystal    U   Th  Th/U  Age   2σ\n",
       "2        A Porphyry, Sample TT150   1.1       r   62   48  0.78  6.6  0.8\n",
       "3        A Porphyry, Sample TT150   3.1       r   76   62  0.82  6.8  0.6\n",
       "4        A Porphyry, Sample TT150   4.1       r   73   60  0.82  6.4  0.6\n",
       "5        A Porphyry, Sample TT150   5.2       r   64   52  0.81  5.7  0.8\n",
       "6        A Porphyry, Sample TT150   6.1       r  542  920  1.70  6.5  0.2\n",
       "..                            ...   ...     ...  ...  ...   ...  ...  ...\n",
       "68  Late Dacite Dike, Sample TT91   8.1       r  295  180  0.61  4.7  0.2\n",
       "69  Late Dacite Dike, Sample TT91  10.1       r  356  280  0.79  4.7  0.2\n",
       "70  Late Dacite Dike, Sample TT91  12.1       r  272  203  0.75  4.9  0.4\n",
       "71  Late Dacite Dike, Sample TT91  15.1       r  263  177  0.67  4.8  0.4\n",
       "72  Late Dacite Dike, Sample TT91  17.1       r  215  132  0.61  4.8  0.4\n",
       "\n",
       "[66 rows x 8 columns]"
      ]
     },
     "execution_count": 23,
     "metadata": {},
     "output_type": "execute_result"
    }
   ],
   "source": []
  },
  {
   "cell_type": "code",
   "execution_count": null,
   "id": "b6173789-3233-4401-86f2-bfff8d42b8ad",
   "metadata": {},
   "outputs": [],
   "source": []
  }
 ],
 "metadata": {
  "kernelspec": {
   "display_name": "Python [conda env:pygmt4]",
   "language": "python",
   "name": "conda-env-pygmt4-py"
  },
  "language_info": {
   "codemirror_mode": {
    "name": "ipython",
    "version": 3
   },
   "file_extension": ".py",
   "mimetype": "text/x-python",
   "name": "python",
   "nbconvert_exporter": "python",
   "pygments_lexer": "ipython3",
   "version": "3.8.10"
  }
 },
 "nbformat": 4,
 "nbformat_minor": 5
}
