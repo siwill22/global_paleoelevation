{
 "cells": [
  {
   "cell_type": "code",
   "execution_count": null,
   "id": "2a69b3fd-f5f2-46fa-8997-26e5f458fa6c",
   "metadata": {},
   "outputs": [],
   "source": [
    "from gprm.datasets import Reconstructions, Zircons, Rocks\n",
    "import numpy as np\n",
    "import matplotlib.pyplot as plt\n",
    "import pandas as pd\n",
    "import pygmt\n",
    "\n",
    "import matplotlib as mpl\n",
    "mpl.rc('font',family='Helvetica')\n",
    "mpl.rcParams['axes.linewidth'] = 2\n",
    "mpl.rcParams['xtick.major.width'] = 2\n",
    "mpl.rcParams['ytick.major.width'] = 2\n",
    "\n",
    "import sys\n",
    "#sys.path.append('/Users/simon/OneDrive/Andes_works//python/')\n",
    "sys.path.append('../../andes_paper/python/')\n",
    "import joyful_geochemistry as joy\n",
    "import joyful_mapping as joymap\n",
    "\n",
    "%load_ext autoreload\n",
    "%autoreload 2\n"
   ]
  },
  {
   "cell_type": "code",
   "execution_count": null,
   "id": "3be97dd9-0caa-4014-a2fa-642727e5ce09",
   "metadata": {},
   "outputs": [],
   "source": [
    "M2022 = Reconstructions.fetch_Muller2022()\n",
    "\n",
    "gdf_Hf_M2022 = M2022.assign_plate_ids(gdf_Hf, polygons='continents', keep_unpartitioned_features=False)"
   ]
  },
  {
   "cell_type": "code",
   "execution_count": null,
   "id": "2b2b9caa-3d17-4615-b7d5-6b6a81b9f6e6",
   "metadata": {},
   "outputs": [],
   "source": [
    "time_step = 20\n",
    "\n",
    "for reconstruction_time in np.arange(0,1000,time_step):\n",
    "\n",
    "    tmp = gdf_Hf_M2022.query('Age>@reconstruction_time-@time_step/2 & Age<@reconstruction_time+@time_step/2')\n",
    "    \n",
    "    tmp = M2022.reconstruct(tmp, reconstruction_time)\n",
    "    \n",
    "    result = pygmt.blockmedian(x=tmp.geometry.x, y=tmp.geometry.y, z=tmp.Hf, region='d', spacing='2.5d', C=True)\n",
    "    \n",
    "\n",
    "    title = '{:0.0f} Ma'.format(reconstruction_time)\n",
    "    \n",
    "    fig = pygmt.Figure()\n",
    "    fig.basemap(projection='N25c', region='d', frame=[\"af\", f\"wsne+t{title}\"])\n",
    "    #fig.coast(land='grey')\n",
    "    M2022.polygon_snapshot('continents', reconstruction_time+0.001).plot(fig, fill='grey80', pen='0p,gray80')\n",
    "    #M2022.plate_snapshot(reconstruction_time+0.01).plot_boundaries(fig, pen='0.5p,darkgrey')\n",
    "    plates = M2022.plate_snapshot(reconstruction_time)\n",
    "    plates.plot_subduction_zones(fig, pen='1p,darkgrey', fill='darkgrey')\n",
    "    plates.plot_mid_ocean_ridges(fig, pen='1p,darkgrey')\n",
    "    pygmt.makecpt(cmap='polar', series=[-15,15,1], background='o')\n",
    "    fig.plot(x=result.iloc[:,0], y=result.iloc[:,1], fill=result.iloc[:,2], style='c0.18c', pen='0.05p,black', cmap=True)\n",
    "    fig.savefig('../images/sequence_M2021/global_hafnium_{:0.0f}Ma.png'.format(reconstruction_time))\n",
    "    #fig.show(width=900)\n",
    "    \n",
    "    #break"
   ]
  }
 ],
 "metadata": {
  "kernelspec": {
   "display_name": "Python [conda env:pygmt10]",
   "language": "python",
   "name": "conda-env-pygmt10-py"
  },
  "language_info": {
   "codemirror_mode": {
    "name": "ipython",
    "version": 3
   },
   "file_extension": ".py",
   "mimetype": "text/x-python",
   "name": "python",
   "nbconvert_exporter": "python",
   "pygments_lexer": "ipython3",
   "version": "3.10.13"
  }
 },
 "nbformat": 4,
 "nbformat_minor": 5
}
