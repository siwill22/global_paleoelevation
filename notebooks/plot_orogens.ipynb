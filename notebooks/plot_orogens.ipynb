{
 "cells": [
  {
   "cell_type": "code",
   "execution_count": null,
   "id": "a1b3890d-6d71-47e1-a383-64e3445e420d",
   "metadata": {},
   "outputs": [],
   "source": [
    "import numpy as np\n",
    "import pandas as pd\n",
    "import geopandas as gpd\n",
    "import matplotlib.pyplot as plt\n",
    "import pygplates\n",
    "import pygmt\n",
    "\n",
    "from gprm import ReconstructionModel\n",
    "from gprm.datasets import Rocks, Reconstructions, Paleogeography, Geology\n",
    "from gprm.utils.geometry import nearest_feature\n",
    "\n",
    "import sys\n",
    "#sys.path.append('/Users/simon/OneDrive/Andes_works//python/')\n",
    "sys.path.append('../../andes_paper/python/')\n",
    "import joyful_geochemistry as joy\n",
    "import joyful_mapping as joymap\n",
    "from time_series import lowess\n",
    "\n",
    "import collections\n",
    "import matplotlib.ticker as mticker\n",
    "\n",
    "%matplotlib inline\n",
    "%load_ext autoreload\n",
    "%autoreload 2\n",
    "\n"
   ]
  },
  {
   "cell_type": "code",
   "execution_count": null,
   "id": "228fe58c-89f1-45d0-aff0-e05142b13cfb",
   "metadata": {},
   "outputs": [],
   "source": [
    "topo = pygmt.datasets.load_earth_relief(resolution='06m')\n",
    "\n",
    "TectonicMap = Geology.fetch_GlobalTectonicMap()"
   ]
  },
  {
   "cell_type": "code",
   "execution_count": null,
   "id": "6b68aaaa-3f81-49d2-89d7-f330e1123401",
   "metadata": {},
   "outputs": [],
   "source": [
    "TectonicMap.plot(column='lastorogen')\n",
    "#TectonicMap.columns"
   ]
  },
  {
   "cell_type": "code",
   "execution_count": null,
   "id": "0cc13a6a-3e30-426f-9054-0018e5fbc9ee",
   "metadata": {},
   "outputs": [],
   "source": [
    "fig=pygmt.Figure()\n",
    "fig.basemap(frame='fg', projection='N15c', region='d')\n",
    "#fig.coast(land='gray', projection='N15c', region='d')\n",
    "pygmt.makecpt(cmap='gray', series=[-1000,5000,500], background='o', reverse=True)\n",
    "fig.grdimage(grid=topo, cmap=True)\n",
    "#fig.plot(data=TectonicMap.dropna(subset=['lastorogen']), fill='blue', transparency=50)\n",
    "\n",
    "orogen_name = 'Cordilleran'\n",
    "fig.plot(data=TectonicMap.dropna(subset='lastorogen').query('lastorogen.str.match(@orogen_name)'), \n",
    "         fill='blue', transparency=80)\n",
    "fig.show()\n",
    "\n",
    "\n"
   ]
  },
  {
   "cell_type": "code",
   "execution_count": null,
   "id": "27cd4cd7-4547-4ed9-87a5-ec4499f30750",
   "metadata": {},
   "outputs": [],
   "source": [
    "orogen_names = [\n",
    "    ('Cordilleran', 'Blue'), \n",
    "    ('Terra Australis', 'Green'), \n",
    "    ('Solonker', 'Orange'), \n",
    "    ('Indosinian', 'Red'), \n",
    "    ('Variscan-Hercynian', 'DarkGreen'),\n",
    "    #'Scotian',\n",
    "    #'Uralian',\n",
    "    ('Mongol', 'Purple'),\n",
    "    ('Kazakh', 'Cyan'),\n",
    "    ('Caledonia', 'DeepPink'),\n",
    "    ('Alpine-Himalayan', 'Gold')\n",
    "]\n",
    "\n",
    "fig=pygmt.Figure()\n",
    "fig.basemap(frame='fg', projection='N22c', region='d')\n",
    "#fig.coast(land='gray', projection='N15c', region='d')\n",
    "pygmt.makecpt(cmap='gray', series=[-1000,5000,500], background='o', reverse=True)\n",
    "fig.grdimage(grid=topo, cmap=True)\n",
    "#fig.plot(data=TectonicMap.dropna(subset=['lastorogen']), fill='blue', transparency=50)\n",
    "\n",
    "for orogen_name, color in orogen_names:\n",
    "    fig.plot(data=TectonicMap.dropna(subset='lastorogen').query('lastorogen.str.match(@orogen_name)'), \n",
    "             fill=color, #pen='1p,white', \n",
    "             transparency=70, label=orogen_name)\n",
    "fig.legend(position='JBL+jBL+o-0.1c', box='+gwhite+p1p')\n",
    "fig.show(width=800)\n"
   ]
  },
  {
   "cell_type": "code",
   "execution_count": null,
   "id": "433a810c-ea4b-4da2-99ba-89d908bfbc9f",
   "metadata": {},
   "outputs": [],
   "source": [
    "df = pd.read_csv('../datafiles/geochem_global_20230124_subduction_M2021.csv')\n",
    "df = gpd.GeoDataFrame(df, geometry=gpd.GeoSeries.from_wkt(df['geometry']), crs='EPSG:4326')\n",
    "\n",
    "sz_distance_limit = 750.\n",
    "\n",
    "df = df.query('distance_to_sz<@sz_distance_limit & age<=540').reset_index(drop=True)\n",
    "\n",
    "fig=pygmt.Figure()\n",
    "fig.basemap(frame='fg', projection='N22c', region='d')\n",
    "#fig.coast(land='gray', projection='N15c', region='d')\n",
    "pygmt.makecpt(cmap='gray', series=[-1000,5000,500], background='o', reverse=True)\n",
    "fig.grdimage(grid=topo, cmap=True)\n",
    "#fig.plot(data=TectonicMap.dropna(subset=['lastorogen']), fill='blue', transparency=50)\n",
    "\n",
    "fig.plot(data=df, style='c0.1c', fill='black', pen='0.1p,white')\n",
    "\n",
    "for orogen_name, color in orogen_names:\n",
    "    fig.plot(data=TectonicMap.dropna(subset='lastorogen').query('lastorogen.str.match(@orogen_name)'), \n",
    "             fill=color, #pen='1p,white', \n",
    "             transparency=70, label=orogen_name)\n",
    "    \n",
    "    \n",
    "fig.legend(position='JBL+jBL+o-0.1c', box='+gwhite+p1p')\n",
    "fig.savefig('../images/global_orogens.png', dpi=600)\n",
    "fig.show(width=800)\n"
   ]
  },
  {
   "cell_type": "code",
   "execution_count": null,
   "id": "d95a210c-6d7c-432d-b72f-66397b58e98d",
   "metadata": {},
   "outputs": [],
   "source": [
    "\n",
    "fig=pygmt.Figure()\n",
    "fig.basemap(frame='fg', projection='N15c', region='d')\n",
    "#fig.coast(land='gray', projection='N15c', region='d')\n",
    "pygmt.makecpt(cmap='gray', series=[-1000,5000,500], background='o', reverse=True)\n",
    "fig.grdimage(grid=topo, cmap=True)\n",
    "#fig.plot(data=TectonicMap.dropna(subset=['lastorogen']), fill='blue', transparency=50)\n",
    "\n",
    "orogen_name = 'Cordilleran'\n",
    "#continent_name = 'South America'\n",
    "#continent_name = 'North America'\n",
    "continent_name = 'Asia'\n",
    "data = TectonicMap.dropna(subset=['lastorogen','continent']).query('lastorogen.str.match(@orogen_name)').query('continent.str.match(@continent_name)')\n",
    "\n",
    "fig.plot(data=data, \n",
    "         fill='blue', transparency=80)\n",
    "fig.show()\n"
   ]
  },
  {
   "cell_type": "code",
   "execution_count": null,
   "id": "f77306a8-14e2-4293-886b-5d4f4e559f4d",
   "metadata": {},
   "outputs": [],
   "source": [
    "TectonicMap.continent.unique()"
   ]
  },
  {
   "cell_type": "code",
   "execution_count": null,
   "id": "c1e93847-a070-4fef-afb6-f1f6e36c94a1",
   "metadata": {},
   "outputs": [],
   "source": [
    "Paleomap = Reconstructions.fetch_Scotese()\n",
    "\n",
    "orogens_pmap = Paleomap.assign_plate_ids(TectonicMap)\n",
    "\n",
    "orogens_pmap.plot()"
   ]
  },
  {
   "cell_type": "code",
   "execution_count": null,
   "id": "2d38a154-7dda-4872-890f-480a05591af3",
   "metadata": {},
   "outputs": [],
   "source": [
    "#'|'.join(list(zip(*orogen_names))[0])\n",
    "orogens_pmap = TectonicMap.dropna(subset=['lastorogen'])\n",
    "orogens_pmap = orogens_pmap[orogens_pmap.lastorogen.str.contains('|'.join(list(zip(*orogen_names))[0]))]\n",
    "\n",
    "orogens_pmap = Paleomap.assign_plate_ids(orogens_pmap)\n",
    "\n",
    "orogens_pmap.plot(column='PLATEID1')"
   ]
  },
  {
   "cell_type": "code",
   "execution_count": null,
   "id": "b8b8c262-02ed-4540-8121-07f77921b86a",
   "metadata": {},
   "outputs": [],
   "source": [
    "pmap_gdf = gpd.read_file(Paleomap.static_polygon_files[0])\n",
    "pmap_gdf.plot()\n"
   ]
  },
  {
   "cell_type": "code",
   "execution_count": null,
   "id": "b7c7bdd9-f5c0-48a8-80fe-6058bba7a8cf",
   "metadata": {},
   "outputs": [],
   "source": []
  }
 ],
 "metadata": {
  "kernelspec": {
   "display_name": "Python [conda env:pygmt9]",
   "language": "python",
   "name": "conda-env-pygmt9-py"
  },
  "language_info": {
   "codemirror_mode": {
    "name": "ipython",
    "version": 3
   },
   "file_extension": ".py",
   "mimetype": "text/x-python",
   "name": "python",
   "nbconvert_exporter": "python",
   "pygments_lexer": "ipython3",
   "version": "3.8.17"
  }
 },
 "nbformat": 4,
 "nbformat_minor": 5
}
