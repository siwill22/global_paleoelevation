{
 "cells": [
  {
   "cell_type": "code",
   "execution_count": null,
   "id": "cae4af04-cd0b-4ca8-83ed-f7041997d894",
   "metadata": {},
   "outputs": [],
   "source": [
    "import numpy as np\n",
    "import pandas as pd\n",
    "import matplotlib.pyplot as plt\n",
    "import pygplates\n",
    "import pygmt\n",
    "import seaborn as sns\n",
    "from pyrolite.geochem.norm import get_reference_composition\n",
    "\n",
    "import sys\n",
    "sys.path.append('../../andes_paper/python/')\n",
    "import joyful_geochemistry as joy\n",
    "\n",
    "%matplotlib inline\n",
    "%load_ext autoreload\n",
    "%autoreload 2\n",
    "\n",
    "f = get_reference_composition('Chondrite_SM89')\n"
   ]
  },
  {
   "cell_type": "code",
   "execution_count": null,
   "id": "c38845ea-491d-4566-ac41-3701e680ae34",
   "metadata": {},
   "outputs": [],
   "source": [
    "df_Tang = pd.read_excel('../datafiles/abf1876-tang-sm-database-s1.xlsx', sheet_name='Filtered')\n",
    "\n",
    "df_Tang.Continent.unique()\n",
    "\n",
    "df_Tang = df_Tang[(df_Tang.Continent.str.contains('S America')) & (df_Tang.Age<500)]\n"
   ]
  },
  {
   "cell_type": "code",
   "execution_count": null,
   "id": "9af59732-ee86-44d4-9bf0-d51d71d5cf20",
   "metadata": {},
   "outputs": [],
   "source": [
    "dfLee41 = pd.read_excel('../datafiles/zircons//Lee/Appendix_Tables.edt.xls', sheet_name='Appendix 4', skiprows=1)\n",
    "dfLee42 = pd.read_excel('../datafiles/zircons//Lee/Appendix_Tables.edt.xls', sheet_name='Appendix 4_2', skiprows=1)\n",
    "\n",
    "dfLee41.columns.values"
   ]
  },
  {
   "cell_type": "code",
   "execution_count": null,
   "id": "7b472666-2775-4905-916f-982795a9b670",
   "metadata": {},
   "outputs": [],
   "source": [
    "dfN = pd.read_excel('../datafiles/zircons//Nathwani/410_2020_1766_MOESM2_ESM.xlsx', \n",
    "                    sheet_name='3. Zircon U-Pb and Traces', skiprows=2)\n",
    "\n",
    "f = get_reference_composition('Chondrite_SM89')\n",
    "\n",
    "euN = dfN['Eu151_ppm'] / f.comp['Eu'].value\n",
    "smN = dfN['Sm147_ppm'] / f.comp['Sm'].value\n",
    "gdN = dfN['Gd157_ppm'] / f.comp['Gd'].value\n",
    "\n",
    "dfN['eu_eu_star'] = euN / np.sqrt(smN * gdN)\n",
    "\n"
   ]
  },
  {
   "cell_type": "code",
   "execution_count": null,
   "id": "fb47229d-b3ac-412a-b2c8-6cc688ddfda6",
   "metadata": {},
   "outputs": [],
   "source": [
    "dfJ = pd.read_excel('../datafiles/zircons//Jara/ScienceDirect_files_17Dec2021_06-35-22.334/1-s2.0-S1342937X2100023X-mmc2.xlsx', \n",
    "                    skiprows=3, skipfooter=6, header=[0, 1])\n",
    "\n",
    "dfJ.replace({'BDL': np.nan}, inplace=True)\n",
    "\n",
    "dfJ['PrefAge'] = dfJ['Pref. Age']['(Ma)']\n",
    "\n",
    "euN = dfJ['Eu153']['Mean (ppm)'] / f.comp['Eu'].value\n",
    "smN = dfJ['Sm147']['Mean (ppm)'] / f.comp['Sm'].value\n",
    "gdN = dfJ['Gd157']['Mean (ppm)'] / f.comp['Gd'].value\n",
    "\n",
    "dfJ['eu_eu_star'] = euN / np.sqrt(smN * gdN)\n",
    "dfJ\n"
   ]
  },
  {
   "cell_type": "code",
   "execution_count": null,
   "id": "d93ef5fc-5a52-4ff4-b1ec-f4f610fbc18b",
   "metadata": {},
   "outputs": [],
   "source": [
    "dfCM = pd.read_excel('../datafiles/zircons//ChelleMichou/1-s2.0-S0024493714001005-mmc2.xlsx', \n",
    "                         sheet_name='Trace elements')\n",
    "\n",
    "dfCM.dropna(inplace=True)\n",
    "dfCM['age_ma'] = np.nan\n",
    "\n",
    "dfCM['age_ma'].iloc[dfCM['Lazer spot'].str.contains('CC055')] = 40.374\n",
    "dfCM['age_ma'].iloc[dfCM['Lazer spot'].str.contains('CC038')] = 40.211\n",
    "dfCM['age_ma'].iloc[dfCM['Lazer spot'].str.contains('CC022')] = 35.633\n",
    "dfCM['age_ma'].iloc[dfCM['Lazer spot'].str.contains('CC051')] = 35.597\n",
    "dfCM['age_ma'].iloc[dfCM['Lazer spot'].str.contains('CC056')] = 35.20\n",
    "\n",
    "euN = dfCM['Eu (ppm)'] / f.comp['Eu'].value\n",
    "smN = dfCM['Sm (ppm)'] / f.comp['Sm'].value\n",
    "gdN = dfCM['Gd (ppm)'] / f.comp['Gd'].value\n",
    "\n",
    "dfCM['eu_eu_star'] = euN / np.sqrt(smN * gdN)\n"
   ]
  },
  {
   "cell_type": "code",
   "execution_count": null,
   "id": "be350b6f-c12b-4a00-8025-0911498e8a94",
   "metadata": {},
   "outputs": [],
   "source": [
    "dfMunoz1 = pd.read_excel('../datafiles/zircons//Munoz/MunozZirconData.xlsx', sheet_name='Sheet1')\n",
    "dfMunoz2 = pd.read_excel('../datafiles/zircons//Munoz/MunozZirconData.xlsx', sheet_name='Sheet2')\n",
    "\n",
    "dfMunoz1['Sample'] = dfMunoz1.Sample.ffill()\n",
    "dfMunoz2['Sample'] = dfMunoz2.Sample.ffill()\n",
    "\n",
    "dfMunoz1.dropna(subset=['Eu'], inplace=True)\n",
    "dfMunoz2.dropna(subset=['Spot'], inplace=True)\n",
    "\n",
    "dfMunoz1.replace({'·': '.', '\\xa0': ''}, regex=True, inplace=True)\n",
    "dfMunoz2.replace({'·': '.', '\\xa0': ''}, regex=True, inplace=True)\n",
    "\n",
    "\n",
    "age_list = []\n",
    "th_u_list = []\n",
    "for i,row in dfMunoz1.iterrows():\n",
    "    age = dfMunoz2[(dfMunoz2.Sample==row.Sample) & (dfMunoz2.Spot.astype(float)==row.Spot)]['Age']\n",
    "    age_list.append(float(age.values[0]))\n",
    "    th_u_list.append(float(dfMunoz2[(dfMunoz2.Sample==row.Sample) & (dfMunoz2.Spot.astype(float)==row.Spot)]['Th/U']))\n",
    "\n",
    "dfMunoz1['age_ma'] = age_list\n"
   ]
  },
  {
   "cell_type": "code",
   "execution_count": null,
   "id": "c03df1f1-4e70-49a2-a50d-2ba76573ddd4",
   "metadata": {},
   "outputs": [],
   "source": [
    "plt.figure(figsize=(14,5))\n",
    "plt.plot(df_Tang.Age, df_Tang['Eu/Eu*zr'], 'ko', label='Tang++2021')\n",
    "plt.plot(dfLee41['Age (Ma) ±1s'], dfLee41['EuN /EuN*'], 'o', alpha=0.5, label='Lee++')\n",
    "plt.plot(dfLee42['Age (Ma) ± 1s'], dfLee42['EuN /EuN*'], 'o', alpha=0.5, label='Lee++')\n",
    "plt.plot(dfN['Weighted Mean Age (Ma)'], dfN['eu_eu_star'], 'o', alpha=0.7, label='Nathwani++')\n",
    "plt.plot(dfJ['PrefAge'], dfJ['eu_eu_star'], 'o', alpha=0.3, label='Jara++')\n",
    "plt.plot(dfCM['age_ma'], dfCM['eu_eu_star'], 'o', alpha=0.3, label='ChelleMichou++')\n",
    "plt.plot(dfMunoz1['age_ma'], dfMunoz1['EuN/ EuN*'].astype(float), 'o', alpha=0.3, label='Munoz++')\n",
    "#plt.xlim(30,70)\n",
    "plt.xlim(0,400)\n",
    "plt.ylim(0,0.9)\n",
    "plt.legend()\n"
   ]
  },
  {
   "cell_type": "code",
   "execution_count": null,
   "id": "95ad4916-d417-43cf-972f-8fe7fd1211e6",
   "metadata": {},
   "outputs": [],
   "source": [
    "ages_cat = []\n",
    "eu_cat = []\n",
    "ages_list = [df_Tang.Age.tolist(), \n",
    "            dfLee41['Age (Ma) ±1s'].tolist(), \n",
    "            dfLee42['Age (Ma) ± 1s'].tolist(), \n",
    "            dfN['Weighted Mean Age (Ma)'].tolist(),\n",
    "            dfJ['PrefAge'].tolist(),\n",
    "            dfCM['age_ma'].tolist(),\n",
    "            dfMunoz1['age_ma'].tolist()]\n",
    "\n",
    "eu_list = [df_Tang['Eu/Eu*zr'],\n",
    "           dfLee41['EuN /EuN*'],\n",
    "           dfLee42['EuN /EuN*'],\n",
    "           dfN['eu_eu_star'],\n",
    "           dfJ['eu_eu_star'],\n",
    "           dfCM['eu_eu_star'],\n",
    "           dfMunoz1['EuN/ EuN*'].astype(float)]\n",
    "\n",
    "for ages,eu in zip(ages_list,eu_list):\n",
    "    ages_cat.extend(ages)\n",
    "    eu_cat.extend(eu)\n",
    "    \n",
    "dff = pd.DataFrame(data={'age': ages_cat,\n",
    "                         'eu_eu': eu_cat}).dropna()\n",
    "\n",
    "#dff\n",
    "\n",
    "dff['age_bin'] = np.round(dff['age']/10.)*10.\n",
    "dff['thickness'] = 84.2 * dff['eu_eu'] + 24.5\n",
    "\n",
    "dff = dff[dff['age_bin']<350.]\n",
    "\n",
    "plt.figure(figsize=(16,6))\n",
    "sns.boxenplot(x='age_bin', y='eu_eu', data=dff)\n",
    "plt.show()\n"
   ]
  },
  {
   "cell_type": "code",
   "execution_count": null,
   "id": "46d9377d-d960-4938-a69a-d3a213b22493",
   "metadata": {},
   "outputs": [],
   "source": []
  }
 ],
 "metadata": {
  "kernelspec": {
   "display_name": "Python [conda env:pygmt4]",
   "language": "python",
   "name": "conda-env-pygmt4-py"
  },
  "language_info": {
   "codemirror_mode": {
    "name": "ipython",
    "version": 3
   },
   "file_extension": ".py",
   "mimetype": "text/x-python",
   "name": "python",
   "nbconvert_exporter": "python",
   "pygments_lexer": "ipython3",
   "version": "3.8.10"
  }
 },
 "nbformat": 4,
 "nbformat_minor": 5
}
